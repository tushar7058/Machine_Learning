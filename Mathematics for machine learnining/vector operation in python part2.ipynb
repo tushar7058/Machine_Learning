{
 "cells": [
  {
   "cell_type": "code",
   "execution_count": 1,
   "metadata": {},
   "outputs": [],
   "source": [
    "import numpy as np\n",
    "import matplotlib.pyplot as plt\n",
    "import seaborn as sns"
   ]
  },
  {
   "cell_type": "markdown",
   "metadata": {},
   "source": [
    "Dot Product of 2 Vectors\n"
   ]
  },
  {
   "cell_type": "code",
   "execution_count": 2,
   "metadata": {},
   "outputs": [
    {
     "name": "stdout",
     "output_type": "stream",
     "text": [
      "20\n"
     ]
    }
   ],
   "source": [
    "a  = np.asarray([2,3])\n",
    "\n",
    "b = np.asarray([4,4])\n",
    "\n",
    "a_dot_b = np.dot(a,b)\n",
    "\n",
    "print(a_dot_b)"
   ]
  },
  {
   "cell_type": "code",
   "execution_count": 3,
   "metadata": {},
   "outputs": [
    {
     "name": "stdout",
     "output_type": "stream",
     "text": [
      "50\n"
     ]
    }
   ],
   "source": [
    "a1  = np.asarray([2,3,5])\n",
    "\n",
    "b1 = np.asarray([4,4,6])\n",
    "\n",
    "a_dot_b = np.dot(a1,b1)\n",
    "\n",
    "\n",
    "print(a_dot_b)\n"
   ]
  },
  {
   "cell_type": "markdown",
   "metadata": {},
   "source": [
    "Cross Product of 2 vectors\n"
   ]
  },
  {
   "cell_type": "code",
   "execution_count": 4,
   "metadata": {},
   "outputs": [
    {
     "name": "stdout",
     "output_type": "stream",
     "text": [
      "-4\n"
     ]
    }
   ],
   "source": [
    "a  = np.asarray([2,3])\n",
    "\n",
    "b = np.asarray([4,4])\n",
    "\n",
    "a_cross_b = np.cross(a,b)\n",
    "print(a_cross_b)"
   ]
  },
  {
   "cell_type": "code",
   "execution_count": 5,
   "metadata": {},
   "outputs": [
    {
     "name": "stdout",
     "output_type": "stream",
     "text": [
      "[-22  10   2]\n"
     ]
    }
   ],
   "source": [
    "a  = np.asarray([2,3,7])\n",
    "\n",
    "b = np.asarray([4,7,9])     \n",
    "\n",
    "a_cross_b = np.cross(a,b)\n",
    "print(a_cross_b)"
   ]
  },
  {
   "cell_type": "markdown",
   "metadata": {},
   "source": [
    "projection of 'a' on 'v' vector"
   ]
  },
  {
   "cell_type": "code",
   "execution_count": 6,
   "metadata": {},
   "outputs": [
    {
     "name": "stdout",
     "output_type": "stream",
     "text": [
      "Projection of a vector on v vector =  [-1.12  0.84]\n"
     ]
    }
   ],
   "source": [
    "a = np.array([2, 5])\n",
    "\n",
    "v = np.array([8, -6])\n",
    "\n",
    "# magnitude of \"v\" vector\n",
    "magnitude_of_v = np.sqrt(sum(v**2))\n",
    "\n",
    "proj_of_a_on_v = (np.dot(a,v)/magnitude_of_v**2)*v \n",
    "\n",
    "print('Projection of a vector on v vector = ', proj_of_a_on_v)\n"
   ]
  },
  {
   "cell_type": "code",
   "execution_count": null,
   "metadata": {},
   "outputs": [],
   "source": []
  }
 ],
 "metadata": {
  "kernelspec": {
   "display_name": "Python 3",
   "language": "python",
   "name": "python3"
  },
  "language_info": {
   "codemirror_mode": {
    "name": "ipython",
    "version": 3
   },
   "file_extension": ".py",
   "mimetype": "text/x-python",
   "name": "python",
   "nbconvert_exporter": "python",
   "pygments_lexer": "ipython3",
   "version": "3.12.3"
  }
 },
 "nbformat": 4,
 "nbformat_minor": 2
}

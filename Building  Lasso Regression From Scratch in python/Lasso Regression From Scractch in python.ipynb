{
 "cells": [
  {
   "cell_type": "code",
   "id": "initial_id",
   "metadata": {
    "collapsed": true,
    "ExecuteTime": {
     "end_time": "2024-07-16T17:25:57.160861Z",
     "start_time": "2024-07-16T17:25:57.107165Z"
    }
   },
   "source": [
    "# importing the dependencies\n",
    "import numpy as np\n"
   ],
   "outputs": [],
   "execution_count": 1
  },
  {
   "metadata": {},
   "cell_type": "markdown",
   "source": "Lasso regression",
   "id": "feffe4836384cada"
  },
  {
   "metadata": {
    "ExecuteTime": {
     "end_time": "2024-07-16T17:28:00.399220Z",
     "start_time": "2024-07-16T17:28:00.390662Z"
    }
   },
   "cell_type": "code",
   "source": [
    "# creating a class for Lasso Regression\n",
    "\n",
    "class Lasso_Regression():\n",
    "\n",
    "  #initiating the hyperparameters\n",
    "  def __init__(self, learning_rate, no_of_iterations, lambda_parameter):\n",
    "\n",
    "    self.learning_rate = learning_rate\n",
    "    self.no_of_iterations = no_of_iterations\n",
    "    self.lambda_parameter = lambda_parameter\n",
    "  # fitting the dataset to the Lasso Regression model\n",
    "  def fit(self, X, Y):\n",
    "    # m --> number of Data points --> number of rows\n",
    "    # n --> number of input features --> number of columns\n",
    "    self.m, self.n = X.shape\n",
    "    self.w = np.zeros(self.n)\n",
    "    self.b = 0\n",
    "    self.X = X\n",
    "    self.Y = Y\n",
    "    # implementing Gradient Descent algorithm for Optimization\n",
    "    for i in range(self.no_of_iterations):\n",
    "      self.upadte_weights()\n",
    "  # function for updating the weight & bias value\n",
    "  def upadte_weights(self):\n",
    "    # linear equation of the model\n",
    "    Y_prediction = self.predict(self.X)\n",
    "    # gradients (dw, db)\n",
    "    # gradient for weight\n",
    "    dw = np.zeros(self.n)\n",
    "    for i in range(self.n):\n",
    "      if self.w[i]>0:\n",
    "        dw[i] = (-(2*(self.X[:,i]).dot(self.Y - Y_prediction)) + self.lambda_parameter) / self.m \n",
    "      else :\n",
    "        dw[i] = (-(2*(self.X[:,i]).dot(self.Y - Y_prediction)) - self.lambda_parameter) / self.m\n",
    "    # gradient for bias\n",
    "    db = - 2 * np.sum(self.Y - Y_prediction) / self.m\n",
    "    # updating the weights & bias\n",
    "    self.w = self.w - self.learning_rate*dw\n",
    "    self.b = self.b - self.learning_rate*db\n",
    "  # Predicting the Target variable\n",
    "  def predict(self,X):\n",
    "    return X.dot(self.w) + self.b\n",
    "\n",
    "\n"
   ],
   "id": "f5bb9e247ec9bad6",
   "outputs": [],
   "execution_count": 2
  },
  {
   "metadata": {},
   "cell_type": "code",
   "outputs": [],
   "execution_count": null,
   "source": "",
   "id": "a3f4db1671012592"
  }
 ],
 "metadata": {
  "kernelspec": {
   "display_name": "Python 3",
   "language": "python",
   "name": "python3"
  },
  "language_info": {
   "codemirror_mode": {
    "name": "ipython",
    "version": 2
   },
   "file_extension": ".py",
   "mimetype": "text/x-python",
   "name": "python",
   "nbconvert_exporter": "python",
   "pygments_lexer": "ipython2",
   "version": "2.7.6"
  }
 },
 "nbformat": 4,
 "nbformat_minor": 5
}

{
 "cells": [
  {
   "cell_type": "code",
   "execution_count": 1,
   "metadata": {},
   "outputs": [],
   "source": [
    "# importing the dependencies\n",
    "import numpy as np\n"
   ]
  },
  {
   "cell_type": "markdown",
   "metadata": {},
   "source": [
    "Logistic Regrssion"
   ]
  },
  {
   "cell_type": "code",
   "execution_count": 3,
   "metadata": {},
   "outputs": [],
   "source": [
    "class Logistic_Regression():\n",
    "    # initiating learing rate no of iterations(hyperparameter)\n",
    "    def __init__(self,learning_rate,no_of_iterations) :\n",
    "        self.learning_rate = learning_rate\n",
    "        self.no_of_iterations = no_of_iterations\n",
    "    \n",
    "    # fit function to  train the model with dataset\n",
    "    def fit(self,X,Y):\n",
    "        # no of data points in the dataset \n",
    "        # no of rows --> m\n",
    "        # no of input feature in the dataset (number of columns )--> n\n",
    "        self.m = m , self.n = X.shape\n",
    "        \n",
    "        # initiating weight and bias value\n",
    "        self.w = np.zeros(self.n)\n",
    "        self.b = 0\n",
    "        self.X = X\n",
    "        self.Y = Y\n",
    "\n",
    "        # implementing the gradient descent algorithm for optimization\n",
    "        for _ in range(self.no_of_iterations):\n",
    "            self.update_weights()\n",
    "\n",
    "        def update_weights(self):\n",
    "            # Yhat formula (sigmoid Function)\n",
    "            Y_hat = 1/(1+np.exp(-(self.X.dot(self.w)+self.b)))\n",
    "          # derivaties\n",
    "        dw = (1/self.m)*np.dot(self.X.T, (Y_hat - self.Y))\n",
    "        db = (1/self.m)*np.sum(Y_hat - self.Y)\n",
    "    # updating the weights & bias using gradient descent\n",
    "\n",
    "        self.w = self.w - self.learning_rate * dw   \n",
    "        self.b = self.b - self.learning_rate * db\n",
    "  # Sigmoid Equation & Decision Boundary\n",
    "    def predict(self, X):\n",
    "        Y_pred = 1 / (1 + np.exp( - (X.dot(self.w) + self.b ) )) \n",
    "        Y_pred = np.where( Y_pred > 0.5, 1, 0)\n",
    "        return Y_pred\n"
   ]
  },
  {
   "cell_type": "code",
   "execution_count": null,
   "metadata": {},
   "outputs": [],
   "source": []
  },
  {
   "cell_type": "code",
   "execution_count": null,
   "metadata": {},
   "outputs": [],
   "source": []
  }
 ],
 "metadata": {
  "kernelspec": {
   "display_name": "Python 3",
   "language": "python",
   "name": "python3"
  },
  "language_info": {
   "codemirror_mode": {
    "name": "ipython",
    "version": 3
   },
   "file_extension": ".py",
   "mimetype": "text/x-python",
   "name": "python",
   "nbconvert_exporter": "python",
   "pygments_lexer": "ipython3",
   "version": "3.12.3"
  }
 },
 "nbformat": 4,
 "nbformat_minor": 2
}

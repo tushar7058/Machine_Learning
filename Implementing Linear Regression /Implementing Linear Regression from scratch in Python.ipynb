{
 "cells": [
  {
   "cell_type": "markdown",
   "id": "75c1473f1f7c7029",
   "metadata": {},
   "source": [
    "Linear Regression:\n",
    "\n",
    "**Y = wX + b**\n",
    "\n",
    "Y --> Dependent Variable\n",
    "\n",
    "X --> Independent Variable\n",
    "\n",
    "w --> weight\n",
    "\n",
    "b --> bias"
   ]
  },
  {
   "cell_type": "markdown",
   "id": "2b14208bcc6eb5fa",
   "metadata": {},
   "source": [
    "Gradient Descent:\n",
    "\n",
    "Gradient Descent is an optimization algorithm used for minimizing the loss function in various machine learning algorithms. It is used for updating the parameters of the learning model.\n",
    "\n",
    "w = w - α*dw\n",
    "\n",
    "b = b - α*db"
   ]
  },
  {
   "cell_type": "markdown",
   "id": "bff119f8e46ee231",
   "metadata": {},
   "source": [
    "Linear Regression"
   ]
  },
  {
   "cell_type": "code",
   "execution_count": 19,
   "id": "162ef54d872fbc32",
   "metadata": {
    "ExecuteTime": {
     "end_time": "2024-06-11T09:32:36.101939Z",
     "start_time": "2024-06-11T09:32:36.099195Z"
    }
   },
   "outputs": [],
   "source": [
    "class Linear_Regression():\n",
    "\n",
    "   def __init__( self, learning_rate, no_of_iterations ) :\n",
    "          \n",
    "        self.learning_rate = learning_rate\n",
    "          \n",
    "        self.no_of_iterations = no_of_iterations\n",
    "\n",
    "    # fit function to train the model\n",
    "\n",
    "   def fit( self, X, Y ) :\n",
    "          \n",
    "        # no_of_training_examples, no_of_features\n",
    "          \n",
    "        self.m, self.n = X.shape\n",
    "          \n",
    "        # initiating the weight and bias\n",
    "          \n",
    "        self.w = np.zeros( self.n )\n",
    "          \n",
    "        self.b = 0\n",
    "          \n",
    "        self.X = X\n",
    "          \n",
    "        self.Y = Y\n",
    "\n",
    "\n",
    "        # implementing Gradient Descent for Optimization\n",
    "                  \n",
    "        for i in range( self.no_of_iterations ) :\n",
    "              \n",
    "            self.update_weights()\n",
    "              \n",
    "        \n",
    "      \n",
    "    # function to update weights in gradient descent\n",
    "      \n",
    "   def update_weights( self ,) :\n",
    "             \n",
    "        Y_prediction = self.predict( self.X )\n",
    "          \n",
    "        # calculate gradients  \n",
    "      \n",
    "        dw = - ( 2 * ( self.X.T ).dot( self.Y - Y_prediction )  ) / self.m\n",
    "       \n",
    "        db = - 2 * np.sum( self.Y - Y_prediction ) / self.m \n",
    "          \n",
    "        # updating the weights\n",
    "      \n",
    "        self.w = self.w - self.learning_rate * dw\n",
    "      \n",
    "        self.b = self.b - self.learning_rate * db\n",
    "          \n",
    "      \n",
    "    # Line function for prediction:\n",
    "      \n",
    "   def predict( self, X ) :\n",
    "      \n",
    "        return X.dot( self.w ) + self.b\n"
   ]
  },
  {
   "cell_type": "markdown",
   "id": "8fda15d5cc095cfa",
   "metadata": {},
   "source": [
    "Using Linear Regression model for Prediction"
   ]
  },
  {
   "cell_type": "code",
   "execution_count": 20,
   "id": "eedb18da61c754b2",
   "metadata": {
    "ExecuteTime": {
     "end_time": "2024-06-11T09:32:36.216478Z",
     "start_time": "2024-06-11T09:32:36.103155Z"
    }
   },
   "outputs": [],
   "source": [
    "# importing the dependencies\n",
    "import  numpy as np\n",
    "import pandas as pd\n",
    "from sklearn.model_selection import train_test_split\n",
    "import matplotlib.pyplot as plt"
   ]
  },
  {
   "cell_type": "markdown",
   "id": "bdae97c927901837",
   "metadata": {},
   "source": [
    "Data Preprocesssing\n"
   ]
  },
  {
   "cell_type": "code",
   "execution_count": 21,
   "id": "d2933d80281bbaaa",
   "metadata": {
    "ExecuteTime": {
     "end_time": "2024-06-11T09:32:36.229865Z",
     "start_time": "2024-06-11T09:32:36.217132Z"
    }
   },
   "outputs": [
    {
     "data": {
      "text/html": [
       "<div>\n",
       "<style scoped>\n",
       "    .dataframe tbody tr th:only-of-type {\n",
       "        vertical-align: middle;\n",
       "    }\n",
       "\n",
       "    .dataframe tbody tr th {\n",
       "        vertical-align: top;\n",
       "    }\n",
       "\n",
       "    .dataframe thead th {\n",
       "        text-align: right;\n",
       "    }\n",
       "</style>\n",
       "<table border=\"1\" class=\"dataframe\">\n",
       "  <thead>\n",
       "    <tr style=\"text-align: right;\">\n",
       "      <th></th>\n",
       "      <th>YearsExperience</th>\n",
       "      <th>Salary</th>\n",
       "    </tr>\n",
       "  </thead>\n",
       "  <tbody>\n",
       "    <tr>\n",
       "      <th>0</th>\n",
       "      <td>1.1</td>\n",
       "      <td>39343</td>\n",
       "    </tr>\n",
       "    <tr>\n",
       "      <th>1</th>\n",
       "      <td>1.3</td>\n",
       "      <td>46205</td>\n",
       "    </tr>\n",
       "    <tr>\n",
       "      <th>2</th>\n",
       "      <td>1.5</td>\n",
       "      <td>37731</td>\n",
       "    </tr>\n",
       "    <tr>\n",
       "      <th>3</th>\n",
       "      <td>2.0</td>\n",
       "      <td>43525</td>\n",
       "    </tr>\n",
       "    <tr>\n",
       "      <th>4</th>\n",
       "      <td>2.2</td>\n",
       "      <td>39891</td>\n",
       "    </tr>\n",
       "  </tbody>\n",
       "</table>\n",
       "</div>"
      ],
      "text/plain": [
       "   YearsExperience  Salary\n",
       "0              1.1   39343\n",
       "1              1.3   46205\n",
       "2              1.5   37731\n",
       "3              2.0   43525\n",
       "4              2.2   39891"
      ]
     },
     "execution_count": 21,
     "metadata": {},
     "output_type": "execute_result"
    }
   ],
   "source": [
    "salary_data = pd.read_csv(\"/Users/tushark/Downloads/CSV/salary_data.csv\")\n",
    "salary_data.head()"
   ]
  },
  {
   "cell_type": "code",
   "execution_count": 22,
   "id": "8db859d44058da46",
   "metadata": {
    "ExecuteTime": {
     "end_time": "2024-06-11T09:32:36.234500Z",
     "start_time": "2024-06-11T09:32:36.230571Z"
    }
   },
   "outputs": [
    {
     "data": {
      "text/html": [
       "<div>\n",
       "<style scoped>\n",
       "    .dataframe tbody tr th:only-of-type {\n",
       "        vertical-align: middle;\n",
       "    }\n",
       "\n",
       "    .dataframe tbody tr th {\n",
       "        vertical-align: top;\n",
       "    }\n",
       "\n",
       "    .dataframe thead th {\n",
       "        text-align: right;\n",
       "    }\n",
       "</style>\n",
       "<table border=\"1\" class=\"dataframe\">\n",
       "  <thead>\n",
       "    <tr style=\"text-align: right;\">\n",
       "      <th></th>\n",
       "      <th>YearsExperience</th>\n",
       "      <th>Salary</th>\n",
       "    </tr>\n",
       "  </thead>\n",
       "  <tbody>\n",
       "    <tr>\n",
       "      <th>25</th>\n",
       "      <td>9.0</td>\n",
       "      <td>105582</td>\n",
       "    </tr>\n",
       "    <tr>\n",
       "      <th>26</th>\n",
       "      <td>9.5</td>\n",
       "      <td>116969</td>\n",
       "    </tr>\n",
       "    <tr>\n",
       "      <th>27</th>\n",
       "      <td>9.6</td>\n",
       "      <td>112635</td>\n",
       "    </tr>\n",
       "    <tr>\n",
       "      <th>28</th>\n",
       "      <td>10.3</td>\n",
       "      <td>122391</td>\n",
       "    </tr>\n",
       "    <tr>\n",
       "      <th>29</th>\n",
       "      <td>10.5</td>\n",
       "      <td>121872</td>\n",
       "    </tr>\n",
       "  </tbody>\n",
       "</table>\n",
       "</div>"
      ],
      "text/plain": [
       "    YearsExperience  Salary\n",
       "25              9.0  105582\n",
       "26              9.5  116969\n",
       "27              9.6  112635\n",
       "28             10.3  122391\n",
       "29             10.5  121872"
      ]
     },
     "execution_count": 22,
     "metadata": {},
     "output_type": "execute_result"
    }
   ],
   "source": [
    "salary_data.tail()"
   ]
  },
  {
   "cell_type": "code",
   "execution_count": 23,
   "id": "3ef0e30202b6b61b",
   "metadata": {
    "ExecuteTime": {
     "end_time": "2024-06-11T09:32:36.238110Z",
     "start_time": "2024-06-11T09:32:36.235729Z"
    }
   },
   "outputs": [
    {
     "data": {
      "text/plain": [
       "(30, 2)"
      ]
     },
     "execution_count": 23,
     "metadata": {},
     "output_type": "execute_result"
    }
   ],
   "source": [
    "salary_data.shape"
   ]
  },
  {
   "cell_type": "code",
   "execution_count": 24,
   "id": "3a44a7e73c6971e9",
   "metadata": {
    "ExecuteTime": {
     "end_time": "2024-06-11T09:32:36.243411Z",
     "start_time": "2024-06-11T09:32:36.238765Z"
    }
   },
   "outputs": [
    {
     "data": {
      "text/plain": [
       "YearsExperience    0\n",
       "Salary             0\n",
       "dtype: int64"
      ]
     },
     "execution_count": 24,
     "metadata": {},
     "output_type": "execute_result"
    }
   ],
   "source": [
    "# checking missing values\n",
    "salary_data.isnull().sum()"
   ]
  },
  {
   "cell_type": "markdown",
   "id": "63243ac61f2bca28",
   "metadata": {},
   "source": [
    "Spilitting features and target"
   ]
  },
  {
   "cell_type": "code",
   "execution_count": 25,
   "id": "ca833a333db09ed0",
   "metadata": {
    "ExecuteTime": {
     "end_time": "2024-06-11T09:32:36.248414Z",
     "start_time": "2024-06-11T09:32:36.245491Z"
    }
   },
   "outputs": [],
   "source": [
    "X =salary_data.iloc[:,:-1].values\n",
    "Y= salary_data.iloc[:,1].values"
   ]
  },
  {
   "cell_type": "code",
   "execution_count": 26,
   "id": "a56c49d946bb4a4d",
   "metadata": {
    "ExecuteTime": {
     "end_time": "2024-06-11T09:32:36.251943Z",
     "start_time": "2024-06-11T09:32:36.249207Z"
    }
   },
   "outputs": [
    {
     "name": "stdout",
     "output_type": "stream",
     "text": [
      "[[ 1.1]\n",
      " [ 1.3]\n",
      " [ 1.5]\n",
      " [ 2. ]\n",
      " [ 2.2]\n",
      " [ 2.9]\n",
      " [ 3. ]\n",
      " [ 3.2]\n",
      " [ 3.2]\n",
      " [ 3.7]\n",
      " [ 3.9]\n",
      " [ 4. ]\n",
      " [ 4. ]\n",
      " [ 4.1]\n",
      " [ 4.5]\n",
      " [ 4.9]\n",
      " [ 5.1]\n",
      " [ 5.3]\n",
      " [ 5.9]\n",
      " [ 6. ]\n",
      " [ 6.8]\n",
      " [ 7.1]\n",
      " [ 7.9]\n",
      " [ 8.2]\n",
      " [ 8.7]\n",
      " [ 9. ]\n",
      " [ 9.5]\n",
      " [ 9.6]\n",
      " [10.3]\n",
      " [10.5]]\n"
     ]
    }
   ],
   "source": [
    "print(X)"
   ]
  },
  {
   "cell_type": "code",
   "execution_count": 27,
   "id": "e7f43b272f580498",
   "metadata": {
    "ExecuteTime": {
     "end_time": "2024-06-11T09:32:36.254539Z",
     "start_time": "2024-06-11T09:32:36.252846Z"
    }
   },
   "outputs": [
    {
     "name": "stdout",
     "output_type": "stream",
     "text": [
      "[ 39343  46205  37731  43525  39891  56642  60150  54445  64445  57189\n",
      "  63218  55794  56957  57081  61111  67938  66029  83088  81363  93940\n",
      "  91738  98273 101302 113812 109431 105582 116969 112635 122391 121872]\n"
     ]
    }
   ],
   "source": [
    "print(Y)"
   ]
  },
  {
   "cell_type": "markdown",
   "id": "44583e6ab8f4c8bd",
   "metadata": {},
   "source": [
    "Splitting the dataset into training & test data"
   ]
  },
  {
   "cell_type": "code",
   "execution_count": 28,
   "id": "4af61d904ac3202c",
   "metadata": {
    "ExecuteTime": {
     "end_time": "2024-06-11T09:32:36.258664Z",
     "start_time": "2024-06-11T09:32:36.255438Z"
    }
   },
   "outputs": [],
   "source": [
    "from sklearn.model_selection import train_test_split\n",
    "X_train,X_test,Y_train,Y_test = train_test_split(X,Y,test_size=0.33,random_state=2)"
   ]
  },
  {
   "cell_type": "markdown",
   "id": "5f0899665d83b4a3",
   "metadata": {},
   "source": [
    "Training the Linear Regression model"
   ]
  },
  {
   "cell_type": "markdown",
   "id": "55dd43b952ba939b",
   "metadata": {},
   "source": []
  },
  {
   "cell_type": "code",
   "execution_count": 29,
   "id": "a0d809c189b45cd2",
   "metadata": {
    "ExecuteTime": {
     "end_time": "2024-06-11T09:32:36.261603Z",
     "start_time": "2024-06-11T09:32:36.259420Z"
    }
   },
   "outputs": [],
   "source": [
    "model = Linear_Regression(learning_rate = 0.02, no_of_iterations=100)"
   ]
  },
  {
   "cell_type": "code",
   "execution_count": 30,
   "id": "3361f6677e8d3697",
   "metadata": {
    "ExecuteTime": {
     "end_time": "2024-06-11T09:32:36.277551Z",
     "start_time": "2024-06-11T09:32:36.262620Z"
    }
   },
   "outputs": [],
   "source": [
    "model.fit(X_train, Y_train)"
   ]
  },
  {
   "cell_type": "code",
   "execution_count": 31,
   "id": "8c9331b488faa0d5",
   "metadata": {
    "ExecuteTime": {
     "end_time": "2024-06-11T09:32:36.281345Z",
     "start_time": "2024-06-11T09:32:36.278802Z"
    }
   },
   "outputs": [
    {
     "name": "stdout",
     "output_type": "stream",
     "text": [
      "weight =  10941.258155090314\n",
      "bias =  13499.045037502532\n"
     ]
    }
   ],
   "source": [
    "# printing the parameter values ( weights & bias)\n",
    "\n",
    "print('weight = ', model.w[0])\n",
    "print('bias = ', model.b)"
   ]
  },
  {
   "cell_type": "markdown",
   "id": "893de20de1a9f906",
   "metadata": {},
   "source": [
    "y = 9514(x) + 23697\n",
    "\n",
    "salary = 9514(experience) + 23697"
   ]
  },
  {
   "cell_type": "markdown",
   "id": "43f4d208883eef5a",
   "metadata": {},
   "source": [
    "Predict the salary value for test data"
   ]
  },
  {
   "cell_type": "code",
   "execution_count": 32,
   "id": "b993d7ea97ce0345",
   "metadata": {
    "ExecuteTime": {
     "end_time": "2024-06-11T09:32:36.284773Z",
     "start_time": "2024-06-11T09:32:36.282285Z"
    }
   },
   "outputs": [],
   "source": [
    "test_data_prediction = model.predict(X_test)"
   ]
  },
  {
   "cell_type": "code",
   "execution_count": 33,
   "id": "e126d8732315eb44",
   "metadata": {
    "ExecuteTime": {
     "end_time": "2024-06-11T09:32:36.287904Z",
     "start_time": "2024-06-11T09:32:36.285456Z"
    }
   },
   "outputs": [
    {
     "name": "stdout",
     "output_type": "stream",
     "text": [
      "[ 27722.68063912  25534.4290081   62734.70673541  53981.70021134\n",
      "  91181.97793864  79146.59396804 103217.36190924  46322.81950277\n",
      "  35381.56134768  87899.60049212]\n"
     ]
    }
   ],
   "source": [
    "print(test_data_prediction)"
   ]
  },
  {
   "cell_type": "markdown",
   "id": "b6b2b2aea871c8d9",
   "metadata": {},
   "source": [
    "Visualizing the predicted values & actual Values"
   ]
  },
  {
   "cell_type": "code",
   "execution_count": 34,
   "id": "3b5c4729d42c3931",
   "metadata": {
    "ExecuteTime": {
     "end_time": "2024-06-11T09:32:36.416593Z",
     "start_time": "2024-06-11T09:32:36.288524Z"
    }
   },
   "outputs": [
    {
     "data": {
      "image/png": "[encoded data removed]",
      "text/plain": [
       "<Figure size 640x480 with 1 Axes>"
      ]
     },
     "metadata": {},
     "output_type": "display_data"
    }
   ],
   "source": [
    "plt.scatter(X_test,Y_test, color = 'red')\n",
    "plt.plot(X_test, test_data_prediction, color='blue')\n",
    "plt.xlabel(' Work Experience')\n",
    "plt.ylabel('Salary')\n",
    "plt.title(' Salary vs Experience')\n",
    "plt.show()"
   ]
  },
  {
   "cell_type": "code",
   "execution_count": null,
   "id": "1cd04fe4ed13c670",
   "metadata": {
    "ExecuteTime": {
     "end_time": "2024-06-11T09:32:36.420104Z",
     "start_time": "2024-06-11T09:32:36.417974Z"
    }
   },
   "outputs": [],
   "source": []
  }
 ],
 "metadata": {
  "kernelspec": {
   "display_name": "Python 3",
   "language": "python",
   "name": "python3"
  },
  "language_info": {
   "codemirror_mode": {
    "name": "ipython",
    "version": 3
   },
   "file_extension": ".py",
   "mimetype": "text/x-python",
   "name": "python",
   "nbconvert_exporter": "python",
   "pygments_lexer": "ipython3",
   "version": "3.12.3"
  }
 },
 "nbformat": 4,
 "nbformat_minor": 5
}

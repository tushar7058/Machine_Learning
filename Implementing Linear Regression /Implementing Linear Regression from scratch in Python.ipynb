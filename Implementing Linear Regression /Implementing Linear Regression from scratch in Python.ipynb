{
 "cells": [
  {
   "metadata": {},
   "cell_type": "markdown",
   "source": [
    "Linear Regression:\n",
    "\n",
    "**Y = wX + b**\n",
    "\n",
    "Y --> Dependent Variable\n",
    "\n",
    "X --> Independent Variable\n",
    "\n",
    "w --> weight\n",
    "\n",
    "b --> bias"
   ],
   "id": "75c1473f1f7c7029"
  },
  {
   "metadata": {},
   "cell_type": "markdown",
   "source": [
    "Gradient Descent:\n",
    "\n",
    "Gradient Descent is an optimization algorithm used for minimizing the loss function in various machine learning algorithms. It is used for updating the parameters of the learning model.\n",
    "\n",
    "w = w - α*dw\n",
    "\n",
    "b = b - α*db"
   ],
   "id": "2b14208bcc6eb5fa"
  },
  {
   "metadata": {},
   "cell_type": "markdown",
   "source": "Linear Regression",
   "id": "bff119f8e46ee231"
  },
  {
   "metadata": {
    "ExecuteTime": {
     "end_time": "2024-06-11T09:32:36.101939Z",
     "start_time": "2024-06-11T09:32:36.099195Z"
    }
   },
   "cell_type": "code",
   "source": [
    "class Linear_Regression():\n",
    "\n",
    "   def __init__( self, learning_rate, no_of_iterations ) :\n",
    "          \n",
    "        self.learning_rate = learning_rate\n",
    "          \n",
    "        self.no_of_iterations = no_of_iterations\n",
    "\n",
    "    # fit function to train the model\n",
    "\n",
    "   def fit( self, X, Y ) :\n",
    "          \n",
    "        # no_of_training_examples, no_of_features\n",
    "          \n",
    "        self.m, self.n = X.shape\n",
    "          \n",
    "        # initiating the weight and bias\n",
    "          \n",
    "        self.w = np.zeros( self.n )\n",
    "          \n",
    "        self.b = 0\n",
    "          \n",
    "        self.X = X\n",
    "          \n",
    "        self.Y = Y\n",
    "\n",
    "\n",
    "        # implementing Gradient Descent for Optimization\n",
    "                  \n",
    "        for i in range( self.no_of_iterations ) :\n",
    "              \n",
    "            self.update_weights()\n",
    "              \n",
    "        \n",
    "      \n",
    "    # function to update weights in gradient descent\n",
    "      \n",
    "   def update_weights( self ,) :\n",
    "             \n",
    "        Y_prediction = self.predict( self.X )\n",
    "          \n",
    "        # calculate gradients  \n",
    "      \n",
    "        dw = - ( 2 * ( self.X.T ).dot( self.Y - Y_prediction )  ) / self.m\n",
    "       \n",
    "        db = - 2 * np.sum( self.Y - Y_prediction ) / self.m \n",
    "          \n",
    "        # updating the weights\n",
    "      \n",
    "        self.w = self.w - self.learning_rate * dw\n",
    "      \n",
    "        self.b = self.b - self.learning_rate * db\n",
    "          \n",
    "      \n",
    "    # Line function for prediction:\n",
    "      \n",
    "   def predict( self, X ) :\n",
    "      \n",
    "        return X.dot( self.w ) + self.b\n"
   ],
   "id": "162ef54d872fbc32",
   "outputs": [],
   "execution_count": 1
  },
  {
   "metadata": {},
   "cell_type": "markdown",
   "source": "Using Linear Regression model for Prediction",
   "id": "8fda15d5cc095cfa"
  },
  {
   "metadata": {
    "ExecuteTime": {
     "end_time": "2024-06-11T09:32:36.216478Z",
     "start_time": "2024-06-11T09:32:36.103155Z"
    }
   },
   "cell_type": "code",
   "source": [
    "# importing the dependencies\n",
    "import  numpy as np\n",
    "import pandas as pd\n",
    "from sklearn.model_selection import train_test_split\n",
    "import matplotlib.pyplot as plt"
   ],
   "id": "eedb18da61c754b2",
   "outputs": [],
   "execution_count": 2
  },
  {
   "metadata": {},
   "cell_type": "markdown",
   "source": "Data Preprocesssing\n",
   "id": "bdae97c927901837"
  },
  {
   "metadata": {
    "ExecuteTime": {
     "end_time": "2024-06-11T09:32:36.229865Z",
     "start_time": "2024-06-11T09:32:36.217132Z"
    }
   },
   "cell_type": "code",
   "source": [
    "salary_data = pd.read_csv(\"/Users/tushark/Downloads/CSV/salary_data.csv\")\n",
    "salary_data.head()"
   ],
   "id": "d2933d80281bbaaa",
   "outputs": [
    {
     "data": {
      "text/plain": [
       "   YearsExperience  Salary\n",
       "0              1.1   39343\n",
       "1              1.3   46205\n",
       "2              1.5   37731\n",
       "3              2.0   43525\n",
       "4              2.2   39891"
      ],
      "text/html": [
       "<div>\n",
       "<style scoped>\n",
       "    .dataframe tbody tr th:only-of-type {\n",
       "        vertical-align: middle;\n",
       "    }\n",
       "\n",
       "    .dataframe tbody tr th {\n",
       "        vertical-align: top;\n",
       "    }\n",
       "\n",
       "    .dataframe thead th {\n",
       "        text-align: right;\n",
       "    }\n",
       "</style>\n",
       "<table border=\"1\" class=\"dataframe\">\n",
       "  <thead>\n",
       "    <tr style=\"text-align: right;\">\n",
       "      <th></th>\n",
       "      <th>YearsExperience</th>\n",
       "      <th>Salary</th>\n",
       "    </tr>\n",
       "  </thead>\n",
       "  <tbody>\n",
       "    <tr>\n",
       "      <th>0</th>\n",
       "      <td>1.1</td>\n",
       "      <td>39343</td>\n",
       "    </tr>\n",
       "    <tr>\n",
       "      <th>1</th>\n",
       "      <td>1.3</td>\n",
       "      <td>46205</td>\n",
       "    </tr>\n",
       "    <tr>\n",
       "      <th>2</th>\n",
       "      <td>1.5</td>\n",
       "      <td>37731</td>\n",
       "    </tr>\n",
       "    <tr>\n",
       "      <th>3</th>\n",
       "      <td>2.0</td>\n",
       "      <td>43525</td>\n",
       "    </tr>\n",
       "    <tr>\n",
       "      <th>4</th>\n",
       "      <td>2.2</td>\n",
       "      <td>39891</td>\n",
       "    </tr>\n",
       "  </tbody>\n",
       "</table>\n",
       "</div>"
      ]
     },
     "execution_count": 3,
     "metadata": {},
     "output_type": "execute_result"
    }
   ],
   "execution_count": 3
  },
  {
   "metadata": {
    "ExecuteTime": {
     "end_time": "2024-06-11T09:32:36.234500Z",
     "start_time": "2024-06-11T09:32:36.230571Z"
    }
   },
   "cell_type": "code",
   "source": "salary_data.tail()",
   "id": "8db859d44058da46",
   "outputs": [
    {
     "data": {
      "text/plain": [
       "    YearsExperience  Salary\n",
       "25              9.0  105582\n",
       "26              9.5  116969\n",
       "27              9.6  112635\n",
       "28             10.3  122391\n",
       "29             10.5  121872"
      ],
      "text/html": [
       "<div>\n",
       "<style scoped>\n",
       "    .dataframe tbody tr th:only-of-type {\n",
       "        vertical-align: middle;\n",
       "    }\n",
       "\n",
       "    .dataframe tbody tr th {\n",
       "        vertical-align: top;\n",
       "    }\n",
       "\n",
       "    .dataframe thead th {\n",
       "        text-align: right;\n",
       "    }\n",
       "</style>\n",
       "<table border=\"1\" class=\"dataframe\">\n",
       "  <thead>\n",
       "    <tr style=\"text-align: right;\">\n",
       "      <th></th>\n",
       "      <th>YearsExperience</th>\n",
       "      <th>Salary</th>\n",
       "    </tr>\n",
       "  </thead>\n",
       "  <tbody>\n",
       "    <tr>\n",
       "      <th>25</th>\n",
       "      <td>9.0</td>\n",
       "      <td>105582</td>\n",
       "    </tr>\n",
       "    <tr>\n",
       "      <th>26</th>\n",
       "      <td>9.5</td>\n",
       "      <td>116969</td>\n",
       "    </tr>\n",
       "    <tr>\n",
       "      <th>27</th>\n",
       "      <td>9.6</td>\n",
       "      <td>112635</td>\n",
       "    </tr>\n",
       "    <tr>\n",
       "      <th>28</th>\n",
       "      <td>10.3</td>\n",
       "      <td>122391</td>\n",
       "    </tr>\n",
       "    <tr>\n",
       "      <th>29</th>\n",
       "      <td>10.5</td>\n",
       "      <td>121872</td>\n",
       "    </tr>\n",
       "  </tbody>\n",
       "</table>\n",
       "</div>"
      ]
     },
     "execution_count": 4,
     "metadata": {},
     "output_type": "execute_result"
    }
   ],
   "execution_count": 4
  },
  {
   "metadata": {
    "ExecuteTime": {
     "end_time": "2024-06-11T09:32:36.238110Z",
     "start_time": "2024-06-11T09:32:36.235729Z"
    }
   },
   "cell_type": "code",
   "source": "salary_data.shape",
   "id": "3ef0e30202b6b61b",
   "outputs": [
    {
     "data": {
      "text/plain": [
       "(30, 2)"
      ]
     },
     "execution_count": 5,
     "metadata": {},
     "output_type": "execute_result"
    }
   ],
   "execution_count": 5
  },
  {
   "metadata": {
    "ExecuteTime": {
     "end_time": "2024-06-11T09:32:36.243411Z",
     "start_time": "2024-06-11T09:32:36.238765Z"
    }
   },
   "cell_type": "code",
   "source": [
    "# checking missing values\n",
    "salary_data.isnull().sum()"
   ],
   "id": "3a44a7e73c6971e9",
   "outputs": [
    {
     "data": {
      "text/plain": [
       "YearsExperience    0\n",
       "Salary             0\n",
       "dtype: int64"
      ]
     },
     "execution_count": 6,
     "metadata": {},
     "output_type": "execute_result"
    }
   ],
   "execution_count": 6
  },
  {
   "metadata": {},
   "cell_type": "markdown",
   "source": "Spilitting features and target",
   "id": "63243ac61f2bca28"
  },
  {
   "metadata": {
    "ExecuteTime": {
     "end_time": "2024-06-11T09:32:36.248414Z",
     "start_time": "2024-06-11T09:32:36.245491Z"
    }
   },
   "cell_type": "code",
   "source": [
    "X =salary_data.iloc[:,:-1].values\n",
    "Y= salary_data.iloc[:,1].values"
   ],
   "id": "ca833a333db09ed0",
   "outputs": [],
   "execution_count": 7
  },
  {
   "metadata": {
    "ExecuteTime": {
     "end_time": "2024-06-11T09:32:36.251943Z",
     "start_time": "2024-06-11T09:32:36.249207Z"
    }
   },
   "cell_type": "code",
   "source": "print(X)",
   "id": "a56c49d946bb4a4d",
   "outputs": [
    {
     "name": "stdout",
     "output_type": "stream",
     "text": [
      "[[ 1.1]\n",
      " [ 1.3]\n",
      " [ 1.5]\n",
      " [ 2. ]\n",
      " [ 2.2]\n",
      " [ 2.9]\n",
      " [ 3. ]\n",
      " [ 3.2]\n",
      " [ 3.2]\n",
      " [ 3.7]\n",
      " [ 3.9]\n",
      " [ 4. ]\n",
      " [ 4. ]\n",
      " [ 4.1]\n",
      " [ 4.5]\n",
      " [ 4.9]\n",
      " [ 5.1]\n",
      " [ 5.3]\n",
      " [ 5.9]\n",
      " [ 6. ]\n",
      " [ 6.8]\n",
      " [ 7.1]\n",
      " [ 7.9]\n",
      " [ 8.2]\n",
      " [ 8.7]\n",
      " [ 9. ]\n",
      " [ 9.5]\n",
      " [ 9.6]\n",
      " [10.3]\n",
      " [10.5]]\n"
     ]
    }
   ],
   "execution_count": 8
  },
  {
   "metadata": {
    "ExecuteTime": {
     "end_time": "2024-06-11T09:32:36.254539Z",
     "start_time": "2024-06-11T09:32:36.252846Z"
    }
   },
   "cell_type": "code",
   "source": "print(Y)",
   "id": "e7f43b272f580498",
   "outputs": [
    {
     "name": "stdout",
     "output_type": "stream",
     "text": [
      "[ 39343  46205  37731  43525  39891  56642  60150  54445  64445  57189\n",
      "  63218  55794  56957  57081  61111  67938  66029  83088  81363  93940\n",
      "  91738  98273 101302 113812 109431 105582 116969 112635 122391 121872]\n"
     ]
    }
   ],
   "execution_count": 9
  },
  {
   "metadata": {},
   "cell_type": "markdown",
   "source": "Splitting the dataset into training & test data",
   "id": "44583e6ab8f4c8bd"
  },
  {
   "metadata": {
    "ExecuteTime": {
     "end_time": "2024-06-11T09:32:36.258664Z",
     "start_time": "2024-06-11T09:32:36.255438Z"
    }
   },
   "cell_type": "code",
   "source": [
    "from sklearn.model_selection import train_test_split\n",
    "X_train,X_test,Y_train,Y_test = train_test_split(X,Y,test_size=0.33,random_state=2)"
   ],
   "id": "4af61d904ac3202c",
   "outputs": [],
   "execution_count": 10
  },
  {
   "metadata": {},
   "cell_type": "markdown",
   "source": "Training the Linear Regression model",
   "id": "5f0899665d83b4a3"
  },
  {
   "metadata": {},
   "cell_type": "markdown",
   "source": "",
   "id": "55dd43b952ba939b"
  },
  {
   "metadata": {
    "ExecuteTime": {
     "end_time": "2024-06-11T09:32:36.261603Z",
     "start_time": "2024-06-11T09:32:36.259420Z"
    }
   },
   "cell_type": "code",
   "source": "model = Linear_Regression(learning_rate = 0.02, no_of_iterations=1000)",
   "id": "a0d809c189b45cd2",
   "outputs": [],
   "execution_count": 11
  },
  {
   "metadata": {
    "ExecuteTime": {
     "end_time": "2024-06-11T09:32:36.277551Z",
     "start_time": "2024-06-11T09:32:36.262620Z"
    }
   },
   "cell_type": "code",
   "source": "model.fit(X_train, Y_train)",
   "id": "3361f6677e8d3697",
   "outputs": [],
   "execution_count": 12
  },
  {
   "metadata": {
    "ExecuteTime": {
     "end_time": "2024-06-11T09:32:36.281345Z",
     "start_time": "2024-06-11T09:32:36.278802Z"
    }
   },
   "cell_type": "code",
   "source": [
    "# printing the parameter values ( weights & bias)\n",
    "\n",
    "print('weight = ', model.w[0])\n",
    "print('bias = ', model.b)"
   ],
   "id": "8c9331b488faa0d5",
   "outputs": [
    {
     "name": "stdout",
     "output_type": "stream",
     "text": [
      "weight =  9514.400999035135\n",
      "bias =  23697.406507136307\n"
     ]
    }
   ],
   "execution_count": 13
  },
  {
   "metadata": {},
   "cell_type": "markdown",
   "source": [
    "y = 9514(x) + 23697\n",
    "\n",
    "salary = 9514(experience) + 23697"
   ],
   "id": "893de20de1a9f906"
  },
  {
   "metadata": {},
   "cell_type": "markdown",
   "source": "Predict the salary value for test data",
   "id": "43f4d208883eef5a"
  },
  {
   "metadata": {
    "ExecuteTime": {
     "end_time": "2024-06-11T09:32:36.284773Z",
     "start_time": "2024-06-11T09:32:36.282285Z"
    }
   },
   "cell_type": "code",
   "source": "test_data_prediction = model.predict(X_test)",
   "id": "b993d7ea97ce0345",
   "outputs": [],
   "execution_count": 14
  },
  {
   "metadata": {
    "ExecuteTime": {
     "end_time": "2024-06-11T09:32:36.287904Z",
     "start_time": "2024-06-11T09:32:36.285456Z"
    }
   },
   "cell_type": "code",
   "source": "print(test_data_prediction)",
   "id": "e126d8732315eb44",
   "outputs": [
    {
     "name": "stdout",
     "output_type": "stream",
     "text": [
      "[ 36066.12780588  34163.24760607  66512.21100279  58900.69020357\n",
      "  91249.65360029  80783.81250135 101715.49469922  52240.60950424\n",
      "  42726.20850521  88395.33330058]\n"
     ]
    }
   ],
   "execution_count": 15
  },
  {
   "metadata": {},
   "cell_type": "markdown",
   "source": "Visualizing the predicted values & actual Values",
   "id": "b6b2b2aea871c8d9"
  },
  {
   "metadata": {
    "ExecuteTime": {
     "end_time": "2024-06-11T09:32:36.416593Z",
     "start_time": "2024-06-11T09:32:36.288524Z"
    }
   },
   "cell_type": "code",
   "source": [
    "plt.scatter(X_test,Y_test, color = 'red')\n",
    "plt.plot(X_test, test_data_prediction, color='blue')\n",
    "plt.xlabel(' Work Experience')\n",
    "plt.ylabel('Salary')\n",
    "plt.title(' Salary vs Experience')\n",
    "plt.show()"
   ],
   "id": "3b5c4729d42c3931",
   "outputs": [
    {
     "data": {
      "text/plain": [
       "<Figure size 640x480 with 1 Axes>"
      ],
      "image/png": "[encoded data removed]"
     },
     "metadata": {},
     "output_type": "display_data"
    }
   ],
   "execution_count": 16
  },
  {
   "metadata": {
    "ExecuteTime": {
     "end_time": "2024-06-11T09:32:36.420104Z",
     "start_time": "2024-06-11T09:32:36.417974Z"
    }
   },
   "cell_type": "code",
   "source": "",
   "id": "1cd04fe4ed13c670",
   "outputs": [],
   "execution_count": 16
  }
 ],
 "metadata": {
  "kernelspec": {
   "display_name": "Python 3",
   "language": "python",
   "name": "python3"
  },
  "language_info": {
   "codemirror_mode": {
    "name": "ipython",
    "version": 2
   },
   "file_extension": ".py",
   "mimetype": "text/x-python",
   "name": "python",
   "nbconvert_exporter": "python",
   "pygments_lexer": "ipython2",
   "version": "2.7.6"
  }
 },
 "nbformat": 4,
 "nbformat_minor": 5
}

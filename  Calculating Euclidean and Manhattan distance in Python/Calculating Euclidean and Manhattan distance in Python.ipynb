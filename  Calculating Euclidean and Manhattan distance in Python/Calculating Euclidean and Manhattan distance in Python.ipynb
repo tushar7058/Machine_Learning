{
 "cells": [
  {
   "cell_type": "code",
   "id": "initial_id",
   "metadata": {
    "collapsed": true,
    "ExecuteTime": {
     "end_time": "2024-07-17T10:23:22.288791Z",
     "start_time": "2024-07-17T10:23:22.198239Z"
    }
   },
   "source": [
    "# import the libraries\n",
    "import  numpy as np"
   ],
   "outputs": [],
   "execution_count": 1
  },
  {
   "metadata": {},
   "cell_type": "markdown",
   "source": "Euclidean Distance\n",
   "id": "e78c6ada7981a7da"
  },
  {
   "metadata": {
    "ExecuteTime": {
     "end_time": "2024-07-17T10:24:09.586075Z",
     "start_time": "2024-07-17T10:24:09.580001Z"
    }
   },
   "cell_type": "code",
   "source": [
    "# consider two points with 2 dimensions\n",
    "p1 = (1,1)\n",
    "p2 = (2,2)"
   ],
   "id": "e2efed0e6d47403e",
   "outputs": [],
   "execution_count": 2
  },
  {
   "metadata": {
    "ExecuteTime": {
     "end_time": "2024-07-17T10:26:07.421934Z",
     "start_time": "2024-07-17T10:26:07.415273Z"
    }
   },
   "cell_type": "code",
   "source": [
    "# calculating euclidean distance\n",
    "dist = (p1[0]-p2[0])**2 + (p1[1]-p2[1])**2\n",
    "\n",
    "euclidean_dist = np.sqrt(dist)\n",
    "print(euclidean_dist)"
   ],
   "id": "e45b4bcd08b9f852",
   "outputs": [
    {
     "name": "stdout",
     "output_type": "stream",
     "text": [
      "1.4142135623730951\n"
     ]
    }
   ],
   "execution_count": 3
  },
  {
   "metadata": {
    "ExecuteTime": {
     "end_time": "2024-07-17T10:28:02.228172Z",
     "start_time": "2024-07-17T10:28:02.221759Z"
    }
   },
   "cell_type": "code",
   "source": [
    "# considering two points with 3 dimension\n",
    "p1 = (1,1,1)\n",
    "p2  = (2,2,2)\n",
    "\n",
    "# calculating euclidian distance\n",
    "dist = (p1[0] - p2[0])**2 + (p1[1] - p2[1])**2 + (p1[2] - p2[2])**2\n",
    "\n",
    "euclidean_dist = np.sqrt(dist)\n",
    "print(euclidean_dist)"
   ],
   "id": "e69f72834ed6c30a",
   "outputs": [
    {
     "name": "stdout",
     "output_type": "stream",
     "text": [
      "1.7320508075688772\n"
     ]
    }
   ],
   "execution_count": 4
  },
  {
   "metadata": {
    "ExecuteTime": {
     "end_time": "2024-07-17T10:28:19.259442Z",
     "start_time": "2024-07-17T10:28:19.255480Z"
    }
   },
   "cell_type": "code",
   "source": [
    "# consider two points with 4 dimensions\n",
    "p1 = (1,1,1,1)\n",
    "p2 = (2,2,2,2)\n",
    "\n",
    "dist = 0\n",
    "\n",
    "for i in range(len(p1)):\n",
    "  dist = dist + (p1[i] - p2[i])**2\n",
    "\n",
    "euclidean_dist = np.sqrt(dist)\n",
    "print(euclidean_dist)"
   ],
   "id": "a9fd626ee9d9e797",
   "outputs": [
    {
     "name": "stdout",
     "output_type": "stream",
     "text": [
      "2.0\n"
     ]
    }
   ],
   "execution_count": 5
  },
  {
   "metadata": {},
   "cell_type": "markdown",
   "source": "Creating function for calculating euclidian distance",
   "id": "53181d0491abb20b"
  },
  {
   "metadata": {
    "ExecuteTime": {
     "end_time": "2024-07-17T10:30:21.547983Z",
     "start_time": "2024-07-17T10:30:21.543702Z"
    }
   },
   "cell_type": "code",
   "source": [
    "def get_euclidian_dist(p1,p2):\n",
    "    dist = 0\n",
    "    \n",
    "    for i in range(len(p1)):\n",
    "        dist = dist+(p1[i]-p2[i])**2\n",
    "        \n",
    "        euclidean_dist = np.sqrt(dist)\n",
    "        print(euclidean_dist)"
   ],
   "id": "36eac3f1105f36ae",
   "outputs": [],
   "execution_count": 6
  },
  {
   "metadata": {
    "ExecuteTime": {
     "end_time": "2024-07-17T10:30:40.220884Z",
     "start_time": "2024-07-17T10:30:40.217568Z"
    }
   },
   "cell_type": "code",
   "source": "get_euclidian_dist((1,1,1),(2,2,2))",
   "id": "66e368b64ed0bfc3",
   "outputs": [
    {
     "name": "stdout",
     "output_type": "stream",
     "text": [
      "1.0\n",
      "1.4142135623730951\n",
      "1.7320508075688772\n"
     ]
    }
   ],
   "execution_count": 7
  },
  {
   "metadata": {},
   "cell_type": "markdown",
   "source": "Manhattan Distance",
   "id": "95aad6de626efd3c"
  },
  {
   "metadata": {
    "ExecuteTime": {
     "end_time": "2024-07-17T10:34:43.339091Z",
     "start_time": "2024-07-17T10:34:43.333225Z"
    }
   },
   "cell_type": "code",
   "source": [
    "def get_manhattan_distance(p1, p2):\n",
    "    dist = 0\n",
    "    for i in range(len(p1)):\n",
    "        dist += abs(p1[i] - p2[i])\n",
    "    \n",
    "        manhattan_dist = dist\n",
    "        \n",
    "        print(manhattan_dist)\n",
    "\n"
   ],
   "id": "a247c66190dd9397",
   "outputs": [],
   "execution_count": 8
  },
  {
   "metadata": {
    "ExecuteTime": {
     "end_time": "2024-07-17T10:34:53.470082Z",
     "start_time": "2024-07-17T10:34:53.466866Z"
    }
   },
   "cell_type": "code",
   "source": "get_manhattan_distance((1,1,1,1),(2,2,2,2))",
   "id": "f33a775ddc81ac6d",
   "outputs": [
    {
     "name": "stdout",
     "output_type": "stream",
     "text": [
      "1\n",
      "2\n",
      "3\n",
      "4\n"
     ]
    }
   ],
   "execution_count": 9
  },
  {
   "metadata": {
    "ExecuteTime": {
     "end_time": "2024-07-17T10:35:05.790552Z",
     "start_time": "2024-07-17T10:35:05.784684Z"
    }
   },
   "cell_type": "code",
   "source": [
    "# abs --> absolute value\n",
    "print(abs(1-2))"
   ],
   "id": "4114a8fc4f599082",
   "outputs": [
    {
     "name": "stdout",
     "output_type": "stream",
     "text": [
      "1\n"
     ]
    }
   ],
   "execution_count": 10
  },
  {
   "metadata": {},
   "cell_type": "markdown",
   "source": "calculating the distace between two data points ",
   "id": "da063702f268e326"
  },
  {
   "metadata": {
    "ExecuteTime": {
     "end_time": "2024-07-17T10:36:17.558631Z",
     "start_time": "2024-07-17T10:36:17.550994Z"
    }
   },
   "cell_type": "code",
   "source": [
    "# distance between two similar data points\n",
    "\n",
    "print(get_euclidian_dist((63,1,3,145,233,1,0,150,0,2.3,0,0,1),(37,1,2,130,250,0,1,187,0,3.5,0,0,2)))\n",
    "print(get_manhattan_distance((63,1,3,145,233,1,0,150,0,2.3,0,0,1),(37,1,2,130,250,0,1,187,0,3.5,0,0,2)))"
   ],
   "id": "3120d9c0af98ab80",
   "outputs": [
    {
     "name": "stdout",
     "output_type": "stream",
     "text": [
      "26.0\n",
      "26.0\n",
      "26.019223662515376\n",
      "30.033314835362415\n",
      "34.51086785347479\n",
      "34.52535300326414\n",
      "34.539832078341085\n",
      "50.61620293937506\n",
      "50.61620293937506\n",
      "50.63042563518501\n",
      "50.63042563518501\n",
      "50.63042563518501\n",
      "50.640300157088326\n",
      "None\n",
      "26\n",
      "26\n",
      "27\n",
      "42\n",
      "59\n",
      "60\n",
      "61\n",
      "98\n",
      "98\n",
      "99.2\n",
      "99.2\n",
      "99.2\n",
      "100.2\n",
      "None\n"
     ]
    }
   ],
   "execution_count": 11
  },
  {
   "metadata": {
    "ExecuteTime": {
     "end_time": "2024-07-17T10:36:36.758910Z",
     "start_time": "2024-07-17T10:36:36.752236Z"
    }
   },
   "cell_type": "code",
   "source": [
    "# distance between two dissimilar data points\n",
    "\n",
    "print(get_euclidian_dist((63,1,3,145,233,1,0,150,0,2.3,0,0,1),(67,1,0,160,286,0,0,108,1,1.5,1,3,2)))\n",
    "print(get_manhattan_distance((63,1,3,145,233,1,0,150,0,2.3,0,0,1),(67,1,0,160,286,0,0,108,1,1.5,1,3,2)))"
   ],
   "id": "96930a92d0aa9682",
   "outputs": [
    {
     "name": "stdout",
     "output_type": "stream",
     "text": [
      "4.0\n",
      "4.0\n",
      "5.0\n",
      "15.811388300841896\n",
      "55.308227236099334\n",
      "55.31726674375732\n",
      "55.31726674375732\n",
      "69.45502141674135\n",
      "69.46221994724903\n",
      "69.4668266152989\n",
      "69.47402392261442\n",
      "69.53876616679362\n",
      "69.54595602908914\n",
      "None\n",
      "4\n",
      "4\n",
      "7\n",
      "22\n",
      "75\n",
      "76\n",
      "76\n",
      "118\n",
      "119\n",
      "119.8\n",
      "120.8\n",
      "123.8\n",
      "124.8\n",
      "None\n"
     ]
    }
   ],
   "execution_count": 12
  },
  {
   "metadata": {},
   "cell_type": "code",
   "outputs": [],
   "execution_count": null,
   "source": "",
   "id": "9e1f237b660aac15"
  }
 ],
 "metadata": {
  "kernelspec": {
   "display_name": "Python 3",
   "language": "python",
   "name": "python3"
  },
  "language_info": {
   "codemirror_mode": {
    "name": "ipython",
    "version": 2
   },
   "file_extension": ".py",
   "mimetype": "text/x-python",
   "name": "python",
   "nbconvert_exporter": "python",
   "pygments_lexer": "ipython2",
   "version": "2.7.6"
  }
 },
 "nbformat": 4,
 "nbformat_minor": 5
}

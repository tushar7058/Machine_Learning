{
 "cells": [
  {
   "cell_type": "code",
   "id": "initial_id",
   "metadata": {
    "collapsed": true,
    "ExecuteTime": {
     "end_time": "2024-04-24T07:34:15.634425Z",
     "start_time": "2024-04-24T07:34:15.627493Z"
    }
   },
   "source": [
    "import pandas as pd\n",
    "dataset = pd.read_csv(\"/Users/tushark/Downloads/netflix.csv\")\n"
   ],
   "outputs": [],
   "execution_count": 4
  },
  {
   "metadata": {
    "ExecuteTime": {
     "end_time": "2024-04-24T07:38:55.471452Z",
     "start_time": "2024-04-24T07:38:55.456936Z"
    }
   },
   "cell_type": "code",
   "source": "dataset.head(5)",
   "id": "e1c33145d464503a",
   "outputs": [
    {
     "data": {
      "text/plain": [
       "               title            genre language  imdb_score    premiere  \\\n",
       "0   Notes for My Son            Drama  Spanish         6.3  11/24/2020   \n",
       "1   To Each, Her Own  Romantic comedy   French         5.3   6/24/2018   \n",
       "2      The Lovebirds  Romantic comedy  English         6.1   5/22/2020   \n",
       "3     The Perfection  Horror-thriller  English         6.1   5/24/2019   \n",
       "4  Happy Anniversary  Romantic comedy  English         5.8   3/30/2018   \n",
       "\n",
       "   runtime  year  \n",
       "0       83  2020  \n",
       "1       95  2018  \n",
       "2       87  2020  \n",
       "3       90  2019  \n",
       "4       78  2018  "
      ],
      "text/html": [
       "<div>\n",
       "<style scoped>\n",
       "    .dataframe tbody tr th:only-of-type {\n",
       "        vertical-align: middle;\n",
       "    }\n",
       "\n",
       "    .dataframe tbody tr th {\n",
       "        vertical-align: top;\n",
       "    }\n",
       "\n",
       "    .dataframe thead th {\n",
       "        text-align: right;\n",
       "    }\n",
       "</style>\n",
       "<table border=\"1\" class=\"dataframe\">\n",
       "  <thead>\n",
       "    <tr style=\"text-align: right;\">\n",
       "      <th></th>\n",
       "      <th>title</th>\n",
       "      <th>genre</th>\n",
       "      <th>language</th>\n",
       "      <th>imdb_score</th>\n",
       "      <th>premiere</th>\n",
       "      <th>runtime</th>\n",
       "      <th>year</th>\n",
       "    </tr>\n",
       "  </thead>\n",
       "  <tbody>\n",
       "    <tr>\n",
       "      <th>0</th>\n",
       "      <td>Notes for My Son</td>\n",
       "      <td>Drama</td>\n",
       "      <td>Spanish</td>\n",
       "      <td>6.3</td>\n",
       "      <td>11/24/2020</td>\n",
       "      <td>83</td>\n",
       "      <td>2020</td>\n",
       "    </tr>\n",
       "    <tr>\n",
       "      <th>1</th>\n",
       "      <td>To Each, Her Own</td>\n",
       "      <td>Romantic comedy</td>\n",
       "      <td>French</td>\n",
       "      <td>5.3</td>\n",
       "      <td>6/24/2018</td>\n",
       "      <td>95</td>\n",
       "      <td>2018</td>\n",
       "    </tr>\n",
       "    <tr>\n",
       "      <th>2</th>\n",
       "      <td>The Lovebirds</td>\n",
       "      <td>Romantic comedy</td>\n",
       "      <td>English</td>\n",
       "      <td>6.1</td>\n",
       "      <td>5/22/2020</td>\n",
       "      <td>87</td>\n",
       "      <td>2020</td>\n",
       "    </tr>\n",
       "    <tr>\n",
       "      <th>3</th>\n",
       "      <td>The Perfection</td>\n",
       "      <td>Horror-thriller</td>\n",
       "      <td>English</td>\n",
       "      <td>6.1</td>\n",
       "      <td>5/24/2019</td>\n",
       "      <td>90</td>\n",
       "      <td>2019</td>\n",
       "    </tr>\n",
       "    <tr>\n",
       "      <th>4</th>\n",
       "      <td>Happy Anniversary</td>\n",
       "      <td>Romantic comedy</td>\n",
       "      <td>English</td>\n",
       "      <td>5.8</td>\n",
       "      <td>3/30/2018</td>\n",
       "      <td>78</td>\n",
       "      <td>2018</td>\n",
       "    </tr>\n",
       "  </tbody>\n",
       "</table>\n",
       "</div>"
      ]
     },
     "execution_count": 9,
     "metadata": {},
     "output_type": "execute_result"
    }
   ],
   "execution_count": 9
  },
  {
   "metadata": {
    "ExecuteTime": {
     "end_time": "2024-04-24T07:34:26.061220Z",
     "start_time": "2024-04-24T07:34:26.057473Z"
    }
   },
   "cell_type": "code",
   "source": "print(\"Hello world\")",
   "id": "6c10f5711b6bfb81",
   "outputs": [
    {
     "name": "stdout",
     "output_type": "stream",
     "text": [
      "Hello world\n"
     ]
    }
   ],
   "execution_count": 5
  },
  {
   "metadata": {
    "ExecuteTime": {
     "end_time": "2024-04-24T07:36:00.781427Z",
     "start_time": "2024-04-24T07:36:00.776063Z"
    }
   },
   "cell_type": "code",
   "source": "dataset.shape",
   "id": "f111b2ff3b7d7e07",
   "outputs": [
    {
     "data": {
      "text/plain": [
       "(583, 7)"
      ]
     },
     "execution_count": 7,
     "metadata": {},
     "output_type": "execute_result"
    }
   ],
   "execution_count": 7
  },
  {
   "metadata": {
    "ExecuteTime": {
     "end_time": "2024-04-24T07:39:05.827177Z",
     "start_time": "2024-04-24T07:39:05.820629Z"
    }
   },
   "cell_type": "code",
   "source": "dataset.isnull",
   "id": "bda62600769b9b28",
   "outputs": [
    {
     "data": {
      "text/plain": [
       "<bound method DataFrame.isnull of                                                  title               genre  \\\n",
       "0                                     Notes for My Son               Drama   \n",
       "1                                     To Each, Her Own     Romantic comedy   \n",
       "2                                        The Lovebirds     Romantic comedy   \n",
       "3                                       The Perfection     Horror-thriller   \n",
       "4                                    Happy Anniversary     Romantic comedy   \n",
       "..                                                 ...                 ...   \n",
       "578  Rolling Thunder Revue: A bob Dylan Story by Ma...         Documentary   \n",
       "579                           Freaks: You're One of Us  Supernatural drama   \n",
       "580                                       Squared Love     Romantic comedy   \n",
       "581                                         My Own Man         Documentary   \n",
       "582                      Biggie: I Got a Story to Tell         Documentary   \n",
       "\n",
       "    language  imdb_score    premiere  runtime  year  \n",
       "0    Spanish         6.3  11/24/2020       83  2020  \n",
       "1     French         5.3   6/24/2018       95  2018  \n",
       "2    English         6.1   5/22/2020       87  2020  \n",
       "3    English         6.1   5/24/2019       90  2019  \n",
       "4    English         5.8   3/30/2018       78  2018  \n",
       "..       ...         ...         ...      ...   ...  \n",
       "578  English         7.6   6/12/2019      144  2019  \n",
       "579   German         5.4    9/2/2020       92  2020  \n",
       "580   Polish         5.0   2/11/2021      102  2021  \n",
       "581  English         6.4  12/13/2014       81  2014  \n",
       "582  English         6.9    3/1/2021       97  2021  \n",
       "\n",
       "[583 rows x 7 columns]>"
      ]
     },
     "execution_count": 10,
     "metadata": {},
     "output_type": "execute_result"
    }
   ],
   "execution_count": 10
  },
  {
   "metadata": {
    "ExecuteTime": {
     "end_time": "2024-04-24T07:40:19.097614Z",
     "start_time": "2024-04-24T07:40:19.089388Z"
    }
   },
   "cell_type": "code",
   "source": "dataset.isnull().sum() ",
   "id": "47ad0d0288d6bb7",
   "outputs": [
    {
     "data": {
      "text/plain": [
       "title         0\n",
       "genre         0\n",
       "language      0\n",
       "imdb_score    0\n",
       "premiere      0\n",
       "runtime       0\n",
       "year          0\n",
       "dtype: int64"
      ]
     },
     "execution_count": 12,
     "metadata": {},
     "output_type": "execute_result"
    }
   ],
   "execution_count": 12
  },
  {
   "metadata": {
    "ExecuteTime": {
     "end_time": "2024-04-24T07:43:15.546859Z",
     "start_time": "2024-04-24T07:43:15.541005Z"
    }
   },
   "cell_type": "code",
   "source": "dataset.shape[0]",
   "id": "441746bf05f65250",
   "outputs": [
    {
     "data": {
      "text/plain": [
       "583"
      ]
     },
     "execution_count": 14,
     "metadata": {},
     "output_type": "execute_result"
    }
   ],
   "execution_count": 14
  },
  {
   "metadata": {
    "ExecuteTime": {
     "end_time": "2024-04-24T07:44:13.987416Z",
     "start_time": "2024-04-24T07:44:13.982197Z"
    }
   },
   "cell_type": "code",
   "source": "(dataset.isnull().sum()/dataset.shape[0])*100",
   "id": "86c9447b8859824c",
   "outputs": [
    {
     "data": {
      "text/plain": [
       "title         0.0\n",
       "genre         0.0\n",
       "language      0.0\n",
       "imdb_score    0.0\n",
       "premiere      0.0\n",
       "runtime       0.0\n",
       "year          0.0\n",
       "dtype: float64"
      ]
     },
     "execution_count": 16,
     "metadata": {},
     "output_type": "execute_result"
    }
   ],
   "execution_count": 16
  },
  {
   "metadata": {},
   "cell_type": "code",
   "outputs": [],
   "execution_count": null,
   "source": "",
   "id": "f107a5f9633cafe3"
  }
 ],
 "metadata": {
  "kernelspec": {
   "display_name": "Python 3",
   "language": "python",
   "name": "python3"
  },
  "language_info": {
   "codemirror_mode": {
    "name": "ipython",
    "version": 2
   },
   "file_extension": ".py",
   "mimetype": "text/x-python",
   "name": "python",
   "nbconvert_exporter": "python",
   "pygments_lexer": "ipython2",
   "version": "2.7.6"
  }
 },
 "nbformat": 4,
 "nbformat_minor": 5
}

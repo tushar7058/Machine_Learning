{
 "cells": [
  {
   "cell_type": "code",
   "id": "initial_id",
   "metadata": {
    "collapsed": true,
    "ExecuteTime": {
     "end_time": "2024-04-25T15:21:54.415629Z",
     "start_time": "2024-04-25T15:21:54.401637Z"
    }
   },
   "source": [
    "import pandas as pd\n",
    "import seaborn as sns\n",
    "import matplotlib.pyplot as plt\n",
    "\n",
    "data = pd.read_csv(\"/Users/tushark/Downloads/netflix.csv\")"
   ],
   "outputs": [],
   "execution_count": 5
  },
  {
   "metadata": {
    "ExecuteTime": {
     "end_time": "2024-04-25T15:21:54.425905Z",
     "start_time": "2024-04-25T15:21:54.418039Z"
    }
   },
   "cell_type": "code",
   "source": "data.head(4)",
   "id": "6f815e88deb24dd0",
   "outputs": [
    {
     "data": {
      "text/plain": [
       "              title            genre language  imdb_score    premiere  \\\n",
       "0  Notes for My Son            Drama  Spanish         6.3  11/24/2020   \n",
       "1  To Each, Her Own  Romantic comedy   French         5.3   6/24/2018   \n",
       "2     The Lovebirds  Romantic comedy  English         6.1   5/22/2020   \n",
       "3    The Perfection  Horror-thriller  English         6.1   5/24/2019   \n",
       "\n",
       "   runtime  year  \n",
       "0       83  2020  \n",
       "1       95  2018  \n",
       "2       87  2020  \n",
       "3       90  2019  "
      ],
      "text/html": [
       "<div>\n",
       "<style scoped>\n",
       "    .dataframe tbody tr th:only-of-type {\n",
       "        vertical-align: middle;\n",
       "    }\n",
       "\n",
       "    .dataframe tbody tr th {\n",
       "        vertical-align: top;\n",
       "    }\n",
       "\n",
       "    .dataframe thead th {\n",
       "        text-align: right;\n",
       "    }\n",
       "</style>\n",
       "<table border=\"1\" class=\"dataframe\">\n",
       "  <thead>\n",
       "    <tr style=\"text-align: right;\">\n",
       "      <th></th>\n",
       "      <th>title</th>\n",
       "      <th>genre</th>\n",
       "      <th>language</th>\n",
       "      <th>imdb_score</th>\n",
       "      <th>premiere</th>\n",
       "      <th>runtime</th>\n",
       "      <th>year</th>\n",
       "    </tr>\n",
       "  </thead>\n",
       "  <tbody>\n",
       "    <tr>\n",
       "      <th>0</th>\n",
       "      <td>Notes for My Son</td>\n",
       "      <td>Drama</td>\n",
       "      <td>Spanish</td>\n",
       "      <td>6.3</td>\n",
       "      <td>11/24/2020</td>\n",
       "      <td>83</td>\n",
       "      <td>2020</td>\n",
       "    </tr>\n",
       "    <tr>\n",
       "      <th>1</th>\n",
       "      <td>To Each, Her Own</td>\n",
       "      <td>Romantic comedy</td>\n",
       "      <td>French</td>\n",
       "      <td>5.3</td>\n",
       "      <td>6/24/2018</td>\n",
       "      <td>95</td>\n",
       "      <td>2018</td>\n",
       "    </tr>\n",
       "    <tr>\n",
       "      <th>2</th>\n",
       "      <td>The Lovebirds</td>\n",
       "      <td>Romantic comedy</td>\n",
       "      <td>English</td>\n",
       "      <td>6.1</td>\n",
       "      <td>5/22/2020</td>\n",
       "      <td>87</td>\n",
       "      <td>2020</td>\n",
       "    </tr>\n",
       "    <tr>\n",
       "      <th>3</th>\n",
       "      <td>The Perfection</td>\n",
       "      <td>Horror-thriller</td>\n",
       "      <td>English</td>\n",
       "      <td>6.1</td>\n",
       "      <td>5/24/2019</td>\n",
       "      <td>90</td>\n",
       "      <td>2019</td>\n",
       "    </tr>\n",
       "  </tbody>\n",
       "</table>\n",
       "</div>"
      ]
     },
     "execution_count": 6,
     "metadata": {},
     "output_type": "execute_result"
    }
   ],
   "execution_count": 6
  },
  {
   "metadata": {
    "ExecuteTime": {
     "end_time": "2024-04-25T15:21:54.431790Z",
     "start_time": "2024-04-25T15:21:54.427118Z"
    }
   },
   "cell_type": "code",
   "source": "data.isnull().sum()",
   "id": "e8cf5e4dab09c4b1",
   "outputs": [
    {
     "data": {
      "text/plain": [
       "title         0\n",
       "genre         0\n",
       "language      0\n",
       "imdb_score    0\n",
       "premiere      0\n",
       "runtime       0\n",
       "year          0\n",
       "dtype: int64"
      ]
     },
     "execution_count": 7,
     "metadata": {},
     "output_type": "execute_result"
    }
   ],
   "execution_count": 7
  },
  {
   "metadata": {
    "ExecuteTime": {
     "end_time": "2024-04-25T15:21:54.441114Z",
     "start_time": "2024-04-25T15:21:54.434570Z"
    }
   },
   "cell_type": "code",
   "source": "data.info()",
   "id": "7b5957dc25675913",
   "outputs": [
    {
     "name": "stdout",
     "output_type": "stream",
     "text": [
      "<class 'pandas.core.frame.DataFrame'>\n",
      "RangeIndex: 583 entries, 0 to 582\n",
      "Data columns (total 7 columns):\n",
      " #   Column      Non-Null Count  Dtype  \n",
      "---  ------      --------------  -----  \n",
      " 0   title       583 non-null    object \n",
      " 1   genre       583 non-null    object \n",
      " 2   language    583 non-null    object \n",
      " 3   imdb_score  583 non-null    float64\n",
      " 4   premiere    583 non-null    object \n",
      " 5   runtime     583 non-null    int64  \n",
      " 6   year        583 non-null    int64  \n",
      "dtypes: float64(1), int64(2), object(4)\n",
      "memory usage: 32.0+ KB\n"
     ]
    }
   ],
   "execution_count": 8
  },
  {
   "metadata": {
    "ExecuteTime": {
     "end_time": "2024-04-25T15:21:54.444277Z",
     "start_time": "2024-04-25T15:21:54.442351Z"
    }
   },
   "cell_type": "code",
   "source": "",
   "id": "a691f39be68a0021",
   "outputs": [],
   "execution_count": 8
  }
 ],
 "metadata": {
  "kernelspec": {
   "display_name": "Python 3",
   "language": "python",
   "name": "python3"
  },
  "language_info": {
   "codemirror_mode": {
    "name": "ipython",
    "version": 2
   },
   "file_extension": ".py",
   "mimetype": "text/x-python",
   "name": "python",
   "nbconvert_exporter": "python",
   "pygments_lexer": "ipython2",
   "version": "2.7.6"
  }
 },
 "nbformat": 4,
 "nbformat_minor": 5
}

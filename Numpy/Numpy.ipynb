{
 "cells": [
  {
   "metadata": {},
   "cell_type": "markdown",
   "source": [
    "\n",
    "NumPy - Numerical Python"
   ],
   "id": "541d6f81736d78db"
  },
  {
   "metadata": {},
   "cell_type": "markdown",
   "source": [
    "Advantages of Numpy Arrays:\n",
    "\n",
    "Allows several Mathematical Operations\n",
    "Faster operations"
   ],
   "id": "4c72d6ef792094a1"
  },
  {
   "cell_type": "code",
   "id": "initial_id",
   "metadata": {
    "collapsed": true,
    "ExecuteTime": {
     "end_time": "2024-04-30T06:41:13.935564Z",
     "start_time": "2024-04-30T06:41:13.772626Z"
    }
   },
   "source": [
    "import  numpy as np # importing dependencies\n",
    "\n"
   ],
   "outputs": [],
   "execution_count": 7
  },
  {
   "metadata": {},
   "cell_type": "markdown",
   "source": "list vs numpy time taken",
   "id": "2caa81c529694d89"
  },
  {
   "metadata": {
    "ExecuteTime": {
     "end_time": "2024-04-30T06:41:13.941734Z",
     "start_time": "2024-04-30T06:41:13.937594Z"
    }
   },
   "cell_type": "code",
   "source": "from  time import process_time",
   "id": "16764dbd74efc996",
   "outputs": [],
   "execution_count": 8
  },
  {
   "metadata": {},
   "cell_type": "markdown",
   "source": [
    "time taken by  a list\n",
    "\n"
   ],
   "id": "d2d06f4c94baa599"
  },
  {
   "metadata": {
    "ExecuteTime": {
     "end_time": "2024-04-30T06:41:13.950946Z",
     "start_time": "2024-04-30T06:41:13.944090Z"
    }
   },
   "cell_type": "code",
   "source": [
    "python_list = [i for i in range(10000)]\n",
    "star_time = process_time()\n",
    "\n",
    "python_list = [i+5 for i in python_list]\n",
    "\n",
    "end_time = process_time()\n",
    "\n",
    "print(end_time-star_time) # for knowning the time\n"
   ],
   "id": "7c256786f9fd89a5",
   "outputs": [
    {
     "name": "stdout",
     "output_type": "stream",
     "text": [
      "0.004550999999999972\n"
     ]
    }
   ],
   "execution_count": 9
  },
  {
   "metadata": {
    "ExecuteTime": {
     "end_time": "2024-04-30T06:41:13.960501Z",
     "start_time": "2024-04-30T06:41:13.954889Z"
    }
   },
   "cell_type": "code",
   "source": [
    "np_array = np.array([i for i in range(10000)])\n",
    "star_time =process_time()\n",
    "np_array+=5\n",
    "end_time=process_time()\n",
    "print(end_time-star_time)"
   ],
   "id": "2fe89c0b619fb9d0",
   "outputs": [
    {
     "name": "stdout",
     "output_type": "stream",
     "text": [
      "0.002737999999999907\n"
     ]
    }
   ],
   "execution_count": 10
  },
  {
   "metadata": {},
   "cell_type": "markdown",
   "source": "#Numpy Array",
   "id": "91746f40ca7a511c"
  },
  {
   "metadata": {
    "ExecuteTime": {
     "end_time": "2024-04-30T06:45:08.314103Z",
     "start_time": "2024-04-30T06:45:08.302629Z"
    }
   },
   "cell_type": "code",
   "source": [
    "#list \n",
    "\n",
    "list1  = np.array([1,2,3,4])\n",
    "print(list1)\n",
    "type(list1)"
   ],
   "id": "8cd39ea0a8d6d7cf",
   "outputs": [
    {
     "name": "stdout",
     "output_type": "stream",
     "text": [
      "[1 2 3 4]\n"
     ]
    },
    {
     "data": {
      "text/plain": [
       "numpy.ndarray"
      ]
     },
     "execution_count": 12,
     "metadata": {},
     "output_type": "execute_result"
    }
   ],
   "execution_count": 12
  },
  {
   "metadata": {
    "ExecuteTime": {
     "end_time": "2024-04-30T06:46:37.440801Z",
     "start_time": "2024-04-30T06:46:37.434339Z"
    }
   },
   "cell_type": "code",
   "source": [
    "# creating 1D array \n",
    "A = np.array([1,3,5,7,9])\n",
    "print(A)"
   ],
   "id": "709addb8cdf53555",
   "outputs": [
    {
     "name": "stdout",
     "output_type": "stream",
     "text": [
      "[1 3 5 7 9]\n"
     ]
    }
   ],
   "execution_count": 14
  },
  {
   "metadata": {
    "ExecuteTime": {
     "end_time": "2024-04-30T06:46:43.120660Z",
     "start_time": "2024-04-30T06:46:43.115916Z"
    }
   },
   "cell_type": "code",
   "source": "A.shape",
   "id": "84a90dead632ce22",
   "outputs": [
    {
     "data": {
      "text/plain": [
       "(5,)"
      ]
     },
     "execution_count": 15,
     "metadata": {},
     "output_type": "execute_result"
    }
   ],
   "execution_count": 15
  },
  {
   "metadata": {
    "ExecuteTime": {
     "end_time": "2024-04-30T06:48:29.031214Z",
     "start_time": "2024-04-30T06:48:29.022794Z"
    }
   },
   "cell_type": "code",
   "source": [
    "C = np.array([(1,3,5,7,9),(2,4,6,7,8)],dtype=float)\n",
    "print(C)"
   ],
   "id": "39166a47d240e9b6",
   "outputs": [
    {
     "name": "stdout",
     "output_type": "stream",
     "text": [
      "[[1. 3. 5. 7. 9.]\n",
      " [2. 4. 6. 7. 8.]]\n"
     ]
    }
   ],
   "execution_count": 18
  },
  {
   "metadata": {},
   "cell_type": "markdown",
   "source": "Initial placeholder in Numpy array",
   "id": "4d69e6fda6a100f2"
  },
  {
   "metadata": {
    "ExecuteTime": {
     "end_time": "2024-04-30T06:55:36.599484Z",
     "start_time": "2024-04-30T06:55:36.594405Z"
    }
   },
   "cell_type": "code",
   "source": [
    "# creating numpy array of zeros\n",
    "a = np.zeros((5,5))\n",
    "print(a)"
   ],
   "id": "6b0a95293ff1deda",
   "outputs": [
    {
     "name": "stdout",
     "output_type": "stream",
     "text": [
      "[[0. 0. 0. 0. 0.]\n",
      " [0. 0. 0. 0. 0.]\n",
      " [0. 0. 0. 0. 0.]\n",
      " [0. 0. 0. 0. 0.]\n",
      " [0. 0. 0. 0. 0.]]\n"
     ]
    }
   ],
   "execution_count": 24
  },
  {
   "metadata": {
    "ExecuteTime": {
     "end_time": "2024-04-30T06:56:18.094451Z",
     "start_time": "2024-04-30T06:56:18.088376Z"
    }
   },
   "cell_type": "code",
   "source": [
    "# creating numpy array of ones\n",
    "b = np.ones((4,5))\n",
    "print(b)"
   ],
   "id": "5521d9c60fe68c6b",
   "outputs": [
    {
     "name": "stdout",
     "output_type": "stream",
     "text": [
      "[[1. 1. 1. 1. 1.]\n",
      " [1. 1. 1. 1. 1.]\n",
      " [1. 1. 1. 1. 1.]\n",
      " [1. 1. 1. 1. 1.]]\n"
     ]
    }
   ],
   "execution_count": 26
  },
  {
   "metadata": {
    "ExecuteTime": {
     "end_time": "2024-04-30T06:58:42.357599Z",
     "start_time": "2024-04-30T06:58:42.342468Z"
    }
   },
   "cell_type": "code",
   "source": [
    "# array of particular value\n",
    "c= np.full((3,2),2)\n",
    "print(c)"
   ],
   "id": "4ec34b6a9c1d4940",
   "outputs": [
    {
     "name": "stdout",
     "output_type": "stream",
     "text": [
      "[[2 2]\n",
      " [2 2]\n",
      " [2 2]]\n"
     ]
    }
   ],
   "execution_count": 28
  },
  {
   "metadata": {
    "ExecuteTime": {
     "end_time": "2024-04-30T07:00:42.982548Z",
     "start_time": "2024-04-30T07:00:42.963973Z"
    }
   },
   "cell_type": "code",
   "source": [
    "# creating identity matrix\n",
    "identity = np.eye(4,4)\n",
    "print(identity)"
   ],
   "id": "b9ffac8d30511e76",
   "outputs": [
    {
     "name": "stdout",
     "output_type": "stream",
     "text": [
      "[[1. 0. 0. 0.]\n",
      " [0. 1. 0. 0.]\n",
      " [0. 0. 1. 0.]\n",
      " [0. 0. 0. 1.]]\n"
     ]
    }
   ],
   "execution_count": 29
  },
  {
   "metadata": {
    "ExecuteTime": {
     "end_time": "2024-04-30T07:04:53.558149Z",
     "start_time": "2024-04-30T07:04:53.553629Z"
    }
   },
   "cell_type": "code",
   "source": [
    "# creating numpy array with random values\n",
    "arr_rand = np.random.random((1,1))\n",
    "print(arr_rand)"
   ],
   "id": "b25454501e32a391",
   "outputs": [
    {
     "name": "stdout",
     "output_type": "stream",
     "text": [
      "[[0.42603528]]\n"
     ]
    }
   ],
   "execution_count": 36
  },
  {
   "metadata": {
    "ExecuteTime": {
     "end_time": "2024-04-30T07:07:54.538535Z",
     "start_time": "2024-04-30T07:07:54.534825Z"
    }
   },
   "cell_type": "code",
   "source": [
    "# random integer values array within specific range\n",
    "E = np.random.randint(20,50,(2,3)) \n",
    "print(E)\n"
   ],
   "id": "52af30947704799f",
   "outputs": [
    {
     "name": "stdout",
     "output_type": "stream",
     "text": [
      "[[46 46 22]\n",
      " [24 29 39]]\n"
     ]
    }
   ],
   "execution_count": 44
  },
  {
   "metadata": {
    "ExecuteTime": {
     "end_time": "2024-04-30T07:08:33.887171Z",
     "start_time": "2024-04-30T07:08:33.874152Z"
    }
   },
   "cell_type": "code",
   "source": [
    "# array of evenly spaced values --> specifying the number of values required\n",
    "D = np.random.randint(10,30,5)"
   ],
   "id": "82070ade649fbb2a",
   "outputs": [],
   "execution_count": 45
  },
  {
   "metadata": {
    "ExecuteTime": {
     "end_time": "2024-04-30T07:08:47.874365Z",
     "start_time": "2024-04-30T07:08:47.870990Z"
    }
   },
   "cell_type": "code",
   "source": "print(D)",
   "id": "dd264ac806cb3af7",
   "outputs": [
    {
     "name": "stdout",
     "output_type": "stream",
     "text": [
      "[28 16 29 15 17]\n"
     ]
    }
   ],
   "execution_count": 48
  },
  {
   "metadata": {
    "ExecuteTime": {
     "end_time": "2024-04-30T07:12:41.391950Z",
     "start_time": "2024-04-30T07:12:41.386771Z"
    }
   },
   "cell_type": "code",
   "source": [
    "# array of evenly spaced values --> specifying the step\n",
    "s = np.arange(10,50,5)\n",
    "print(s)\n"
   ],
   "id": "bbbae1bcb270736",
   "outputs": [
    {
     "name": "stdout",
     "output_type": "stream",
     "text": [
      "[10 15 20 25 30 35 40 45]\n"
     ]
    }
   ],
   "execution_count": 50
  },
  {
   "metadata": {
    "ExecuteTime": {
     "end_time": "2024-04-30T08:05:02.444455Z",
     "start_time": "2024-04-30T08:05:02.422588Z"
    }
   },
   "cell_type": "code",
   "source": [
    "# convert a list to numpy array\n",
    "list2 = [1,2,3,4,5,7,6]\n",
    "\n",
    "np_array= np.asanyarray(list2)\n",
    "print(np_array)\n",
    "type(np_array)"
   ],
   "id": "15683c4dcbb30ae5",
   "outputs": [
    {
     "name": "stdout",
     "output_type": "stream",
     "text": [
      "[1 2 3 4 5 7 6]\n"
     ]
    },
    {
     "data": {
      "text/plain": [
       "numpy.ndarray"
      ]
     },
     "execution_count": 51,
     "metadata": {},
     "output_type": "execute_result"
    }
   ],
   "execution_count": 51
  },
  {
   "metadata": {},
   "cell_type": "markdown",
   "source": "# Analysing a numpy array",
   "id": "25be53f53b342b0f"
  },
  {
   "metadata": {
    "ExecuteTime": {
     "end_time": "2024-04-30T08:06:28.837317Z",
     "start_time": "2024-04-30T08:06:28.827340Z"
    }
   },
   "cell_type": "code",
   "source": [
    "c = np.random.randint(10,90,(5,5))\n",
    "print(c)\n"
   ],
   "id": "1f3d4f9e2484eeb3",
   "outputs": [
    {
     "name": "stdout",
     "output_type": "stream",
     "text": [
      "[[67 39 11 46 88]\n",
      " [34 18 25 10 23]\n",
      " [25 75 26 86 89]\n",
      " [67 61 65 87 37]\n",
      " [56 64 78 61 30]]\n"
     ]
    }
   ],
   "execution_count": 52
  },
  {
   "metadata": {
    "ExecuteTime": {
     "end_time": "2024-04-30T08:07:30.078712Z",
     "start_time": "2024-04-30T08:07:30.057347Z"
    }
   },
   "cell_type": "code",
   "source": [
    "# array Dimension\n",
    "print(c.shape)"
   ],
   "id": "a33004498ade3df9",
   "outputs": [
    {
     "name": "stdout",
     "output_type": "stream",
     "text": [
      "(5, 5)\n"
     ]
    }
   ],
   "execution_count": 55
  },
  {
   "metadata": {
    "ExecuteTime": {
     "end_time": "2024-04-30T08:08:15.777471Z",
     "start_time": "2024-04-30T08:08:15.772108Z"
    }
   },
   "cell_type": "code",
   "source": [
    "# number of dimension\n",
    "print(c.ndim)"
   ],
   "id": "99b9667510c1e62f",
   "outputs": [
    {
     "name": "stdout",
     "output_type": "stream",
     "text": [
      "2\n"
     ]
    }
   ],
   "execution_count": 56
  },
  {
   "metadata": {
    "ExecuteTime": {
     "end_time": "2024-04-30T08:09:09.555581Z",
     "start_time": "2024-04-30T08:09:09.550537Z"
    }
   },
   "cell_type": "code",
   "source": [
    "# number of elements in an array\n",
    "print(c.size)\n"
   ],
   "id": "bde1cd1886d056f8",
   "outputs": [
    {
     "name": "stdout",
     "output_type": "stream",
     "text": [
      "25\n"
     ]
    }
   ],
   "execution_count": 57
  },
  {
   "metadata": {
    "ExecuteTime": {
     "end_time": "2024-04-30T08:09:51.553005Z",
     "start_time": "2024-04-30T08:09:51.546728Z"
    }
   },
   "cell_type": "code",
   "source": [
    "# checking the datatype of in an array\n",
    "print(c.dtype)"
   ],
   "id": "73ee440c010de5d",
   "outputs": [
    {
     "name": "stdout",
     "output_type": "stream",
     "text": [
      "int64\n"
     ]
    }
   ],
   "execution_count": 58
  },
  {
   "metadata": {},
   "cell_type": "markdown",
   "source": "mathematical operation on a np array",
   "id": "38598f5882befde1"
  },
  {
   "metadata": {
    "ExecuteTime": {
     "end_time": "2024-04-30T08:11:54.483671Z",
     "start_time": "2024-04-30T08:11:54.477067Z"
    }
   },
   "cell_type": "code",
   "source": [
    "list4 =[1,2,3,4,4]\n",
    "list5 = [2,4,6,8,10]\n",
    " # concatenate or join two list\n",
    "print(list4+list5)"
   ],
   "id": "e3e28e692599b06",
   "outputs": [
    {
     "name": "stdout",
     "output_type": "stream",
     "text": [
      "[1, 2, 3, 4, 4, 2, 4, 6, 8, 10]\n"
     ]
    }
   ],
   "execution_count": 60
  },
  {
   "metadata": {
    "ExecuteTime": {
     "end_time": "2024-04-30T08:14:29.262346Z",
     "start_time": "2024-04-30T08:14:29.255062Z"
    }
   },
   "cell_type": "code",
   "source": [
    "a1 =np.random.randint(10,20,(3,3))\n",
    "b1 =np.random.randint(30,40,(3,3))\n",
    "\n",
    "print(a1)\n",
    "print(b1)"
   ],
   "id": "b54b031c348ecc74",
   "outputs": [
    {
     "name": "stdout",
     "output_type": "stream",
     "text": [
      "[[17 14 19]\n",
      " [13 13 19]\n",
      " [16 15 19]]\n",
      "[[31 31 33]\n",
      " [36 37 37]\n",
      " [33 30 31]]\n"
     ]
    }
   ],
   "execution_count": 61
  },
  {
   "metadata": {
    "ExecuteTime": {
     "end_time": "2024-04-30T08:14:38.179455Z",
     "start_time": "2024-04-30T08:14:38.173611Z"
    }
   },
   "cell_type": "code",
   "source": "print(a1+b1)",
   "id": "c9e12fc411b3b466",
   "outputs": [
    {
     "name": "stdout",
     "output_type": "stream",
     "text": [
      "[[48 45 52]\n",
      " [49 50 56]\n",
      " [49 45 50]]\n"
     ]
    }
   ],
   "execution_count": 62
  },
  {
   "metadata": {
    "ExecuteTime": {
     "end_time": "2024-04-30T08:15:07.742892Z",
     "start_time": "2024-04-30T08:15:07.734860Z"
    }
   },
   "cell_type": "code",
   "source": [
    "print(a1-b1)\n",
    "print(a1*b1)\n",
    "print(a1/b1)"
   ],
   "id": "d26f64ca21b3bf13",
   "outputs": [
    {
     "name": "stdout",
     "output_type": "stream",
     "text": [
      "[[-14 -17 -14]\n",
      " [-23 -24 -18]\n",
      " [-17 -15 -12]]\n",
      "[[527 434 627]\n",
      " [468 481 703]\n",
      " [528 450 589]]\n",
      "[[0.5483871  0.4516129  0.57575758]\n",
      " [0.36111111 0.35135135 0.51351351]\n",
      " [0.48484848 0.5        0.61290323]]\n"
     ]
    }
   ],
   "execution_count": 63
  },
  {
   "metadata": {
    "ExecuteTime": {
     "end_time": "2024-04-30T08:15:53.728571Z",
     "start_time": "2024-04-30T08:15:53.721747Z"
    }
   },
   "cell_type": "code",
   "source": "print(np.add(a1,b1))",
   "id": "d618cf70ee89b06e",
   "outputs": [
    {
     "name": "stdout",
     "output_type": "stream",
     "text": [
      "[[48 45 52]\n",
      " [49 50 56]\n",
      " [49 45 50]]\n"
     ]
    }
   ],
   "execution_count": 65
  },
  {
   "metadata": {
    "ExecuteTime": {
     "end_time": "2024-04-30T08:17:00.028018Z",
     "start_time": "2024-04-30T08:17:00.021166Z"
    }
   },
   "cell_type": "code",
   "source": [
    "print(np.subtract(a1,b1))\n",
    "print(np.multiply(a1,b1))\n",
    "print(np.divide(a1,b1))"
   ],
   "id": "49608fae626ae70a",
   "outputs": [
    {
     "name": "stdout",
     "output_type": "stream",
     "text": [
      "[[-14 -17 -14]\n",
      " [-23 -24 -18]\n",
      " [-17 -15 -12]]\n",
      "[[527 434 627]\n",
      " [468 481 703]\n",
      " [528 450 589]]\n",
      "[[0.5483871  0.4516129  0.57575758]\n",
      " [0.36111111 0.35135135 0.51351351]\n",
      " [0.48484848 0.5        0.61290323]]\n"
     ]
    }
   ],
   "execution_count": 66
  },
  {
   "metadata": {},
   "cell_type": "markdown",
   "source": "Array Manipulation",
   "id": "e4f88e01ce48b0bf"
  },
  {
   "metadata": {
    "ExecuteTime": {
     "end_time": "2024-04-30T08:17:48.721660Z",
     "start_time": "2024-04-30T08:17:48.715746Z"
    }
   },
   "cell_type": "code",
   "source": [
    "array = np.random.randint(0,10,(2,3))\n",
    "print(array)\n",
    "print(array.shape)"
   ],
   "id": "3979c97f28686bb4",
   "outputs": [
    {
     "name": "stdout",
     "output_type": "stream",
     "text": [
      "[[9 9 7]\n",
      " [6 2 0]]\n",
      "(2, 3)\n"
     ]
    }
   ],
   "execution_count": 67
  },
  {
   "metadata": {
    "ExecuteTime": {
     "end_time": "2024-04-30T08:19:23.302958Z",
     "start_time": "2024-04-30T08:19:23.296243Z"
    }
   },
   "cell_type": "code",
   "source": [
    "# transpose of an array\n",
    "trans =np.transpose(array)\n",
    "print(trans)\n",
    "print(trans.shape)"
   ],
   "id": "b462afc23ee02acf",
   "outputs": [
    {
     "name": "stdout",
     "output_type": "stream",
     "text": [
      "[[9 6]\n",
      " [9 2]\n",
      " [7 0]]\n",
      "(3, 2)\n"
     ]
    }
   ],
   "execution_count": 70
  },
  {
   "metadata": {
    "ExecuteTime": {
     "end_time": "2024-04-30T08:19:52.454046Z",
     "start_time": "2024-04-30T08:19:52.448624Z"
    }
   },
   "cell_type": "code",
   "source": [
    "array = np.random.randint(0,10,(2,3))\n",
    "print(array)\n",
    "print(array.shape)"
   ],
   "id": "9f20101015ab5f2c",
   "outputs": [
    {
     "name": "stdout",
     "output_type": "stream",
     "text": [
      "[[1 9 6]\n",
      " [1 3 1]]\n",
      "(2, 3)\n"
     ]
    }
   ],
   "execution_count": 71
  },
  {
   "metadata": {
    "ExecuteTime": {
     "end_time": "2024-04-30T08:20:00.081882Z",
     "start_time": "2024-04-30T08:20:00.076350Z"
    }
   },
   "cell_type": "code",
   "source": [
    "trans2 = array.T\n",
    "print(trans2)\n",
    "print(trans2.shape)"
   ],
   "id": "3d5234e18d10802b",
   "outputs": [
    {
     "name": "stdout",
     "output_type": "stream",
     "text": [
      "[[1 1]\n",
      " [9 3]\n",
      " [6 1]]\n",
      "(3, 2)\n"
     ]
    }
   ],
   "execution_count": 72
  },
  {
   "metadata": {
    "ExecuteTime": {
     "end_time": "2024-04-30T08:20:16.987107Z",
     "start_time": "2024-04-30T08:20:16.981389Z"
    }
   },
   "cell_type": "code",
   "source": [
    "# reshaping a array\n",
    "a = np.random.randint(0,10,(2,3))\n",
    "print(a)\n",
    "print(a.shape)"
   ],
   "id": "83fda390fc758110",
   "outputs": [
    {
     "name": "stdout",
     "output_type": "stream",
     "text": [
      "[[3 8 6]\n",
      " [7 9 7]]\n",
      "(2, 3)\n"
     ]
    }
   ],
   "execution_count": 73
  },
  {
   "metadata": {
    "ExecuteTime": {
     "end_time": "2024-04-30T08:20:29.283882Z",
     "start_time": "2024-04-30T08:20:29.278380Z"
    }
   },
   "cell_type": "code",
   "source": [
    "b = a.reshape(3,2)\n",
    "print(b)\n",
    "print(b.shape)"
   ],
   "id": "6d7a7703f9cd3e0e",
   "outputs": [
    {
     "name": "stdout",
     "output_type": "stream",
     "text": [
      "[[3 8]\n",
      " [6 7]\n",
      " [9 7]]\n",
      "(3, 2)\n"
     ]
    }
   ],
   "execution_count": 74
  },
  {
   "metadata": {},
   "cell_type": "code",
   "outputs": [],
   "execution_count": null,
   "source": "",
   "id": "bb29b6b358c865e1"
  }
 ],
 "metadata": {
  "kernelspec": {
   "display_name": "Python 3",
   "language": "python",
   "name": "python3"
  },
  "language_info": {
   "codemirror_mode": {
    "name": "ipython",
    "version": 2
   },
   "file_extension": ".py",
   "mimetype": "text/x-python",
   "name": "python",
   "nbconvert_exporter": "python",
   "pygments_lexer": "ipython2",
   "version": "2.7.6"
  }
 },
 "nbformat": 4,
 "nbformat_minor": 5
}

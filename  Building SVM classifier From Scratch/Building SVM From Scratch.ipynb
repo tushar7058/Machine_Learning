{
 "cells": [
  {
   "metadata": {},
   "cell_type": "markdown",
   "source": "**SVM Classifier**",
   "id": "5868ff183105a5cf"
  },
  {
   "metadata": {},
   "cell_type": "markdown",
   "source": [
    "Equation of the Hyperplane:\n",
    "\n",
    "y = wx - b"
   ],
   "id": "473f961d9e747c64"
  },
  {
   "metadata": {},
   "cell_type": "markdown",
   "source": [
    "Gradient Descent:\n",
    "\n",
    "Gradient Descent is an optimization algorithm used for minimizing the loss function in various machine learning algorithms. It is used for updating the parameters of the learning model.\n",
    "\n",
    "w = w - α*dw\n",
    "\n",
    "b = b - α*db"
   ],
   "id": "5898b41ecbb36174"
  },
  {
   "metadata": {},
   "cell_type": "markdown",
   "source": [
    "**Learning Rate:**\n",
    "\n",
    "Learning rate is a tuning parameter in an optimization algorithm that determines the step size at each iteration while moving toward a minimum of a loss function."
   ],
   "id": "edb5b95dc41d718e"
  },
  {
   "cell_type": "code",
   "id": "initial_id",
   "metadata": {
    "collapsed": true,
    "ExecuteTime": {
     "end_time": "2024-07-14T07:59:28.374379Z",
     "start_time": "2024-07-14T07:59:28.300815Z"
    }
   },
   "source": [
    "# importing the dependencies\n",
    "import  numpy as np"
   ],
   "outputs": [],
   "execution_count": 1
  },
  {
   "metadata": {},
   "cell_type": "markdown",
   "source": "Support Vector Machine Classifier",
   "id": "439334af58e8e0c2"
  },
  {
   "metadata": {
    "ExecuteTime": {
     "end_time": "2024-07-14T08:00:06.960993Z",
     "start_time": "2024-07-14T08:00:06.951012Z"
    }
   },
   "cell_type": "code",
   "source": [
    "class SVM_classifier():\n",
    "\n",
    "\n",
    "  # initiating the hyperparameters\n",
    "  def __init__(self, learning_rate, no_of_iterations, lambda_parameter):\n",
    "\n",
    "    self.learning_rate = learning_rate\n",
    "    self.no_of_iterations = no_of_iterations\n",
    "    self.lambda_parameter = lambda_parameter\n",
    "\n",
    "\n",
    "  \n",
    "  # fitting the dataset to SVM Classifier\n",
    "  def fit(self, X, Y):\n",
    "\n",
    "    # m  --> number of Data points --> number of rows\n",
    "    # n  --> number of input features --> number of columns\n",
    "    self.m, self.n = X.shape\n",
    "\n",
    "    # initiating the weight value and bias value\n",
    "\n",
    "    self.w = np.zeros(self.n)\n",
    "\n",
    "    self.b = 0\n",
    "\n",
    "    self.X = X\n",
    "\n",
    "    self.Y = Y\n",
    "\n",
    "    # implementing Gradient Descent algorithm for Optimization\n",
    "\n",
    "    for i in range(self.no_of_iterations):\n",
    "      self.update_weights()\n",
    "\n",
    "\n",
    "\n",
    "  # function for updating the weight and bias value\n",
    "  def update_weights(self):\n",
    "\n",
    "    # label encoding\n",
    "    y_label = np.where(self.Y <= 0, -1, 1)\n",
    "\n",
    "\n",
    "\n",
    "    # gradients ( dw, db)\n",
    "    for index, x_i in enumerate(self.X):\n",
    "\n",
    "      condition = y_label[index] * (np.dot(x_i, self.w) - self.b) >= 1\n",
    "\n",
    "      if (condition == True):\n",
    "\n",
    "        dw = 2 * self.lambda_parameter * self.w\n",
    "        db = 0\n",
    "\n",
    "      else:\n",
    "\n",
    "        dw = 2 * self.lambda_parameter * self.w - np.dot(x_i, y_label[index])\n",
    "        db = y_label[index]\n",
    "\n",
    "\n",
    "      self.w = self.w - self.learning_rate * dw\n",
    "\n",
    "      self.b = self.b - self.learning_rate * db\n",
    "\n",
    "\n",
    "\n",
    "  # predict the label for a given input value\n",
    "  def predict(self, X):\n",
    "\n",
    "    output = np.dot(X, self.w) - self.b\n",
    "    \n",
    "    predicted_labels = np.sign(output)\n",
    "\n",
    "    y_hat = np.where(predicted_labels <= -1, 0, 1)\n",
    "\n",
    "    return y_hat\n"
   ],
   "id": "3c955f7be593f0fc",
   "outputs": [],
   "execution_count": 2
  },
  {
   "metadata": {},
   "cell_type": "code",
   "outputs": [],
   "execution_count": null,
   "source": "",
   "id": "b26221c20c978d39"
  }
 ],
 "metadata": {
  "kernelspec": {
   "display_name": "Python 3",
   "language": "python",
   "name": "python3"
  },
  "language_info": {
   "codemirror_mode": {
    "name": "ipython",
    "version": 2
   },
   "file_extension": ".py",
   "mimetype": "text/x-python",
   "name": "python",
   "nbconvert_exporter": "python",
   "pygments_lexer": "ipython2",
   "version": "2.7.6"
  }
 },
 "nbformat": 4,
 "nbformat_minor": 5
}

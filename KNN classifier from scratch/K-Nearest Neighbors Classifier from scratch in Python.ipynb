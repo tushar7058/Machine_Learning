{
 "cells": [
  {
   "cell_type": "code",
   "id": "initial_id",
   "metadata": {
    "collapsed": true,
    "ExecuteTime": {
     "end_time": "2024-07-17T10:41:57.524600Z",
     "start_time": "2024-07-17T10:41:57.118423Z"
    }
   },
   "source": [
    "# importing the dependencies\n",
    "import  numpy as np\n",
    "import  statistics"
   ],
   "outputs": [],
   "execution_count": 1
  },
  {
   "metadata": {},
   "cell_type": "markdown",
   "source": "K-nearest neighbors classifier",
   "id": "56c868029478cc24"
  },
  {
   "metadata": {
    "ExecuteTime": {
     "end_time": "2024-07-17T10:42:49.205300Z",
     "start_time": "2024-07-17T10:42:49.194450Z"
    }
   },
   "cell_type": "code",
   "source": [
    "class KNN_Classifier():\n",
    "\n",
    "  # initiating the parameters\n",
    "  def __init__(self, distance_metric):\n",
    "\n",
    "    self.distance_metric = distance_metric\n",
    "\n",
    "  # getting the distance metric\n",
    "  def get_distance_metric(self,training_data_point, test_data_point):\n",
    "\n",
    "    if (self.distance_metric == 'euclidean'):\n",
    "\n",
    "      dist = 0\n",
    "      for i in range(len(training_data_point) - 1):\n",
    "        dist = dist + (training_data_point[i] - test_data_point[i])**2\n",
    "\n",
    "      euclidean_dist = np.sqrt(dist)\n",
    "    \n",
    "      return euclidean_dist\n",
    "\n",
    "    elif (self.distance_metric == 'manhattan'):\n",
    "\n",
    "      dist = 0\n",
    "\n",
    "      for i in range(len(training_data_point) - 1):\n",
    "        dist = dist + abs(training_data_point[i] - test_data_point[i])\n",
    "\n",
    "      manhattan_dist = dist\n",
    "\n",
    "      return manhattan_dist\n",
    "\n",
    "  # getting the nearest neighbors\n",
    "  def nearest_neighbors(self,X_train, test_data, k):\n",
    "\n",
    "    distance_list = []\n",
    "\n",
    "    for training_data in X_train:\n",
    "\n",
    "      distance = self.get_distance_metric(training_data, test_data)\n",
    "      distance_list.append((training_data, distance))\n",
    "\n",
    "    distance_list.sort(key=lambda x: x[1])\n",
    "\n",
    "    neighbors_list = []\n",
    "\n",
    "    for j in range(k):\n",
    "      neighbors_list.append(distance_list[j][0])\n",
    "\n",
    "    return neighbors_list\n",
    "\n",
    "\n",
    "  # predict the class of the new data point:\n",
    "  def predict(self,X_train, test_data, k):\n",
    "    neighbors = self.nearest_neighbors(X_train, test_data, k)\n",
    "    \n",
    "    for data in neighbors:\n",
    "      label = []\n",
    "      label.append(data[-1])\n",
    "\n",
    "    predicted_class = statistics.mode(label)\n",
    "\n",
    "    return predicted_class\n"
   ],
   "id": "a3b792a3c08548d",
   "outputs": [],
   "execution_count": 2
  },
  {
   "metadata": {},
   "cell_type": "code",
   "outputs": [],
   "execution_count": null,
   "source": "",
   "id": "5ff093a1a047b182"
  }
 ],
 "metadata": {
  "kernelspec": {
   "display_name": "Python 3",
   "language": "python",
   "name": "python3"
  },
  "language_info": {
   "codemirror_mode": {
    "name": "ipython",
    "version": 2
   },
   "file_extension": ".py",
   "mimetype": "text/x-python",
   "name": "python",
   "nbconvert_exporter": "python",
   "pygments_lexer": "ipython2",
   "version": "2.7.6"
  }
 },
 "nbformat": 4,
 "nbformat_minor": 5
}
